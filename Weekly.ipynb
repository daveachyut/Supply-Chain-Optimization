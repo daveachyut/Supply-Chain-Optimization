{
 "cells": [
  {
   "cell_type": "code",
   "execution_count": 1,
   "metadata": {},
   "outputs": [],
   "source": [
    "%%capture\n",
    "#pip install import_ipynb\n",
    "import import_ipynb\n",
    "\n",
    "from Formalize import *\n",
    "from Test import *"
   ]
  },
  {
   "cell_type": "code",
   "execution_count": 2,
   "metadata": {},
   "outputs": [],
   "source": [
    "file = 'foodmart_mysql/agg_c_special_s_fact_3.csv'"
   ]
  },
  {
   "cell_type": "code",
   "execution_count": 3,
   "metadata": {},
   "outputs": [],
   "source": [
    "agg_c_special_s_fact_3 = All_Data(file)"
   ]
  },
  {
   "cell_type": "code",
   "execution_count": 4,
   "metadata": {},
   "outputs": [
    {
     "name": "stdout",
     "output_type": "stream",
     "text": [
      "self.obj:         Unnamed: 0  retailer  product_id  time_month  week  store_cost_sum  \\\n",
      "0               0         1           1           1     1          2.4640   \n",
      "1               1         1           1           1     1          3.7296   \n",
      "2               2         1           1           1     1          4.9432   \n",
      "3               3         1           1           1     1          0.6105   \n",
      "4               4         1           1           1     1          1.3248   \n",
      "...           ...       ...         ...         ...   ...             ...   \n",
      "26071       26071         9           6          12     4          4.0434   \n",
      "26072       26072         9           6          12     4          3.0100   \n",
      "26073       26073         9           6          12     4          3.0672   \n",
      "26074       26074         9           6          12     4          1.2936   \n",
      "26075       26075         9           6          12     4          5.3200   \n",
      "\n",
      "       unit_sales_sum  cost_price  mean_sell_price  sd_sell_price  difference  \\\n",
      "0                   4        1.40         2.976898       1.499374      1.0640   \n",
      "1                   3        2.59         2.976898       1.499374      1.1396   \n",
      "2                   4        3.34         2.976898       1.499374      1.6032   \n",
      "3                   3        0.55         2.976898       1.499374      0.0605   \n",
      "4                   3        0.96         2.976898       1.499374      0.3648   \n",
      "...               ...         ...              ...            ...         ...   \n",
      "26071               3        2.93         3.204265       1.506455      1.1134   \n",
      "26072               4        2.15         3.204265       1.506455      0.8600   \n",
      "26073               3        2.84         3.204265       1.506455      0.2272   \n",
      "26074               4        0.66         3.204265       1.506455      0.6336   \n",
      "26075               4        3.50         3.204265       1.506455      1.8200   \n",
      "\n",
      "       weekly_demand  \n",
      "0                 35  \n",
      "1                 35  \n",
      "2                 35  \n",
      "3                 35  \n",
      "4                 35  \n",
      "...              ...  \n",
      "26071             39  \n",
      "26072             39  \n",
      "26073             39  \n",
      "26074             39  \n",
      "26075             39  \n",
      "\n",
      "[26076 rows x 12 columns]\n"
     ]
    }
   ],
   "source": [
    "agg_c_special_s_fact_3.visualize()"
   ]
  },
  {
   "cell_type": "code",
   "execution_count": 5,
   "metadata": {},
   "outputs": [],
   "source": [
    "agg_c_special_s_fact_3 = agg_c_special_s_fact_3.drop_columns(['Unnamed: 0'], 1)"
   ]
  },
  {
   "cell_type": "code",
   "execution_count": 6,
   "metadata": {},
   "outputs": [
    {
     "name": "stdout",
     "output_type": "stream",
     "text": [
      "New retailer successfully added.\n",
      "New retailer successfully added.\n",
      "New retailer successfully added.\n",
      "New retailer successfully added.\n",
      "New retailer successfully added.\n",
      "New retailer successfully added.\n",
      "New retailer successfully added.\n",
      "New retailer successfully added.\n",
      "New retailer successfully added.\n"
     ]
    }
   ],
   "source": [
    "Retailer_1 = Retailers(inventory_limit = 210, signature = 'Retailer_1')\n",
    "Retailer_2 = Retailers(inventory_limit = 210, signature = 'Retailer_2')\n",
    "Retailer_3 = Retailers(inventory_limit = 210, signature = 'Retailer_3')\n",
    "Retailer_4 = Retailers(inventory_limit = 210, signature = 'Retailer_4')\n",
    "Retailer_5 = Retailers(inventory_limit = 210, signature = 'Retailer_5')\n",
    "Retailer_6 = Retailers(inventory_limit = 210, signature = 'Retailer_6')\n",
    "Retailer_7 = Retailers(inventory_limit = 210, signature = 'Retailer_7')\n",
    "Retailer_8 = Retailers(inventory_limit = 210, signature = 'Retailer_8')\n",
    "Retailer_9 = Retailers(inventory_limit = 210, signature = 'Retailer_9')"
   ]
  },
  {
   "cell_type": "code",
   "execution_count": 7,
   "metadata": {
    "scrolled": false
   },
   "outputs": [
    {
     "name": "stdout",
     "output_type": "stream",
     "text": [
      "self.obj:        retailer  product_id  time_month  week  store_cost_sum  unit_sales_sum  \\\n",
      "0            1           1           1     1          2.4640               4   \n",
      "1            1           1           1     1          3.7296               3   \n",
      "2            1           1           1     1          4.9432               4   \n",
      "3            1           1           1     1          0.6105               3   \n",
      "4            1           1           1     1          1.3248               3   \n",
      "...        ...         ...         ...   ...             ...             ...   \n",
      "2893         1           6          12     4          3.7920               3   \n",
      "2894         1           6          12     4          2.8800               4   \n",
      "2895         1           6          12     4          2.3688               3   \n",
      "2896         1           6          12     4          2.1978               3   \n",
      "2897         1           6          12     4          5.2630               5   \n",
      "\n",
      "      cost_price  mean_sell_price  sd_sell_price  difference  weekly_demand  \n",
      "0           1.40         2.976898       1.499374      1.0640             35  \n",
      "1           2.59         2.976898       1.499374      1.1396             35  \n",
      "2           3.34         2.976898       1.499374      1.6032             35  \n",
      "3           0.55         2.976898       1.499374      0.0605             35  \n",
      "4           0.96         2.976898       1.499374      0.3648             35  \n",
      "...          ...              ...            ...         ...            ...  \n",
      "2893        3.16         3.204265       1.506455      0.6320             40  \n",
      "2894        1.60         3.204265       1.506455      1.2800             40  \n",
      "2895        1.68         3.204265       1.506455      0.6888             40  \n",
      "2896        1.98         3.204265       1.506455      0.2178             40  \n",
      "2897        2.77         3.204265       1.506455      2.4930             40  \n",
      "\n",
      "[2898 rows x 11 columns]\n"
     ]
    }
   ],
   "source": [
    "Retailer_1 = Retailer_1.Extract_Data(agg_c_special_s_fact_3.obj, 'retailer', 1)\n",
    "#Retailer_1.visualize()\n",
    "Retailer_1 = Retailer_1.drop_columns(['index'], 1)\n",
    "Retailer_1.visualize()"
   ]
  },
  {
   "cell_type": "code",
   "execution_count": 8,
   "metadata": {
    "scrolled": true
   },
   "outputs": [],
   "source": [
    "Retailer_2 = Retailer_2.Extract_Data(agg_c_special_s_fact_3.obj, 'retailer', 2)\n",
    "#Retailer_2.visualize()\n",
    "Retailer_2 = Retailer_2.drop_columns(['index'], 1)\n",
    "#Retailer_2.visualize()"
   ]
  },
  {
   "cell_type": "code",
   "execution_count": 9,
   "metadata": {
    "scrolled": true
   },
   "outputs": [],
   "source": [
    "Retailer_3 = Retailer_3.Extract_Data(agg_c_special_s_fact_3.obj, 'retailer', 3)\n",
    "#Retailer_3.visualize()\n",
    "Retailer_3 = Retailer_3.drop_columns(['index'], 1)\n",
    "#Retailer_3.visualize()"
   ]
  },
  {
   "cell_type": "code",
   "execution_count": 10,
   "metadata": {
    "scrolled": true
   },
   "outputs": [],
   "source": [
    "Retailer_4 = Retailer_4.Extract_Data(agg_c_special_s_fact_3.obj, 'retailer', 4)\n",
    "#Retailer_4.visualize()\n",
    "Retailer_4 = Retailer_4.drop_columns(['index'], 1)\n",
    "#Retailer_4.visualize()"
   ]
  },
  {
   "cell_type": "code",
   "execution_count": 11,
   "metadata": {
    "scrolled": true
   },
   "outputs": [],
   "source": [
    "Retailer_5 = Retailer_5.Extract_Data(agg_c_special_s_fact_3.obj, 'retailer', 5)\n",
    "#Retailer_5.visualize()\n",
    "Retailer_5 = Retailer_5.drop_columns(['index'], 1)\n",
    "#Retailer_5.visualize()"
   ]
  },
  {
   "cell_type": "code",
   "execution_count": 12,
   "metadata": {
    "scrolled": true
   },
   "outputs": [],
   "source": [
    "Retailer_6 = Retailer_6.Extract_Data(agg_c_special_s_fact_3.obj, 'retailer', 6)\n",
    "#Retailer_6.visualize()\n",
    "Retailer_6 = Retailer_6.drop_columns(['index'], 1)\n",
    "#Retailer_6.visualize()"
   ]
  },
  {
   "cell_type": "code",
   "execution_count": 13,
   "metadata": {
    "scrolled": true
   },
   "outputs": [],
   "source": [
    "Retailer_7 = Retailer_7.Extract_Data(agg_c_special_s_fact_3.obj, 'retailer', 7)\n",
    "#Retailer_7.visualize()\n",
    "Retailer_7 = Retailer_7.drop_columns(['index'], 1)\n",
    "#Retailer_7.visualize()"
   ]
  },
  {
   "cell_type": "code",
   "execution_count": 14,
   "metadata": {
    "scrolled": true
   },
   "outputs": [],
   "source": [
    "Retailer_8 = Retailer_8.Extract_Data(agg_c_special_s_fact_3.obj, 'retailer', 8)\n",
    "#Retailer_8.visualize()\n",
    "Retailer_8 = Retailer_8.drop_columns(['index'], 1)\n",
    "#Retailer_8.visualize()"
   ]
  },
  {
   "cell_type": "code",
   "execution_count": 15,
   "metadata": {
    "scrolled": true
   },
   "outputs": [],
   "source": [
    "Retailer_9 = Retailer_9.Extract_Data(agg_c_special_s_fact_3.obj, 'retailer', 9)\n",
    "#Retailer_9.visualize()\n",
    "Retailer_9 = Retailer_9.drop_columns(['index'], 1)\n",
    "#Retailer_9.visualize()"
   ]
  },
  {
   "cell_type": "code",
   "execution_count": 16,
   "metadata": {},
   "outputs": [
    {
     "name": "stdout",
     "output_type": "stream",
     "text": [
      "Class Initialized.\n"
     ]
    }
   ],
   "source": [
    "Retailer_1_Products = Product_Wise_Data(Retailer_1)\n",
    "Retailer_1 = Retailer_1_Products.Magic_Touch()"
   ]
  },
  {
   "cell_type": "code",
   "execution_count": 17,
   "metadata": {},
   "outputs": [
    {
     "name": "stdout",
     "output_type": "stream",
     "text": [
      "Class Initialized.\n"
     ]
    }
   ],
   "source": [
    "Retailer_2_Products = Product_Wise_Data(Retailer_2)\n",
    "Retailer_2 = Retailer_2_Products.Magic_Touch()"
   ]
  },
  {
   "cell_type": "code",
   "execution_count": 18,
   "metadata": {},
   "outputs": [
    {
     "name": "stdout",
     "output_type": "stream",
     "text": [
      "Class Initialized.\n"
     ]
    }
   ],
   "source": [
    "Retailer_3_Products = Product_Wise_Data(Retailer_3)\n",
    "Retailer_3 = Retailer_3_Products.Magic_Touch()"
   ]
  },
  {
   "cell_type": "code",
   "execution_count": 19,
   "metadata": {},
   "outputs": [
    {
     "name": "stdout",
     "output_type": "stream",
     "text": [
      "Class Initialized.\n"
     ]
    }
   ],
   "source": [
    "Retailer_4_Products = Product_Wise_Data(Retailer_4)\n",
    "Retailer_4 = Retailer_4_Products.Magic_Touch()"
   ]
  },
  {
   "cell_type": "code",
   "execution_count": 20,
   "metadata": {},
   "outputs": [
    {
     "name": "stdout",
     "output_type": "stream",
     "text": [
      "Class Initialized.\n"
     ]
    }
   ],
   "source": [
    "Retailer_5_Products = Product_Wise_Data(Retailer_5)\n",
    "Retailer_5 = Retailer_5_Products.Magic_Touch()"
   ]
  },
  {
   "cell_type": "code",
   "execution_count": 21,
   "metadata": {},
   "outputs": [
    {
     "name": "stdout",
     "output_type": "stream",
     "text": [
      "Class Initialized.\n"
     ]
    }
   ],
   "source": [
    "Retailer_6_Products = Product_Wise_Data(Retailer_6)\n",
    "Retailer_6 = Retailer_6_Products.Magic_Touch()"
   ]
  },
  {
   "cell_type": "code",
   "execution_count": 22,
   "metadata": {},
   "outputs": [
    {
     "name": "stdout",
     "output_type": "stream",
     "text": [
      "Class Initialized.\n"
     ]
    }
   ],
   "source": [
    "Retailer_7_Products = Product_Wise_Data(Retailer_7)\n",
    "Retailer_7 = Retailer_7_Products.Magic_Touch()"
   ]
  },
  {
   "cell_type": "code",
   "execution_count": 23,
   "metadata": {},
   "outputs": [
    {
     "name": "stdout",
     "output_type": "stream",
     "text": [
      "Class Initialized.\n"
     ]
    }
   ],
   "source": [
    "Retailer_8_Products = Product_Wise_Data(Retailer_8)\n",
    "Retailer_8 = Retailer_8_Products.Magic_Touch()"
   ]
  },
  {
   "cell_type": "code",
   "execution_count": 24,
   "metadata": {},
   "outputs": [
    {
     "name": "stdout",
     "output_type": "stream",
     "text": [
      "Class Initialized.\n"
     ]
    }
   ],
   "source": [
    "Retailer_9_Products = Product_Wise_Data(Retailer_9)\n",
    "Retailer_9 = Retailer_9_Products.Magic_Touch()"
   ]
  },
  {
   "cell_type": "code",
   "execution_count": 25,
   "metadata": {},
   "outputs": [
    {
     "name": "stdout",
     "output_type": "stream",
     "text": [
      "Class Initialized.\n"
     ]
    }
   ],
   "source": [
    "Retailer_1_History = History(Retailer_1)\n",
    "Retailer_1 = Retailer_1_History.Magic_Touch()"
   ]
  },
  {
   "cell_type": "code",
   "execution_count": 26,
   "metadata": {},
   "outputs": [
    {
     "name": "stdout",
     "output_type": "stream",
     "text": [
      "Class Initialized.\n"
     ]
    }
   ],
   "source": [
    "Retailer_2_History = History(Retailer_2)\n",
    "Retailer_2 = Retailer_2_History.Magic_Touch()"
   ]
  },
  {
   "cell_type": "code",
   "execution_count": 27,
   "metadata": {},
   "outputs": [
    {
     "name": "stdout",
     "output_type": "stream",
     "text": [
      "Class Initialized.\n"
     ]
    }
   ],
   "source": [
    "Retailer_3_History = History(Retailer_3)\n",
    "Retailer_3 = Retailer_3_History.Magic_Touch()"
   ]
  },
  {
   "cell_type": "code",
   "execution_count": 28,
   "metadata": {},
   "outputs": [
    {
     "name": "stdout",
     "output_type": "stream",
     "text": [
      "Class Initialized.\n"
     ]
    }
   ],
   "source": [
    "Retailer_4_History = History(Retailer_4)\n",
    "Retailer_4 = Retailer_4_History.Magic_Touch()"
   ]
  },
  {
   "cell_type": "code",
   "execution_count": 29,
   "metadata": {},
   "outputs": [
    {
     "name": "stdout",
     "output_type": "stream",
     "text": [
      "Class Initialized.\n"
     ]
    }
   ],
   "source": [
    "Retailer_5_History = History(Retailer_5)\n",
    "Retailer_5 = Retailer_5_History.Magic_Touch()"
   ]
  },
  {
   "cell_type": "code",
   "execution_count": 30,
   "metadata": {},
   "outputs": [
    {
     "name": "stdout",
     "output_type": "stream",
     "text": [
      "Class Initialized.\n"
     ]
    }
   ],
   "source": [
    "Retailer_6_History = History(Retailer_6)\n",
    "Retailer_6 = Retailer_6_History.Magic_Touch()"
   ]
  },
  {
   "cell_type": "code",
   "execution_count": 31,
   "metadata": {},
   "outputs": [
    {
     "name": "stdout",
     "output_type": "stream",
     "text": [
      "Class Initialized.\n"
     ]
    }
   ],
   "source": [
    "Retailer_7_History = History(Retailer_7)\n",
    "Retailer_7 = Retailer_7_History.Magic_Touch()"
   ]
  },
  {
   "cell_type": "code",
   "execution_count": 32,
   "metadata": {},
   "outputs": [
    {
     "name": "stdout",
     "output_type": "stream",
     "text": [
      "Class Initialized.\n"
     ]
    }
   ],
   "source": [
    "Retailer_8_History = History(Retailer_8)\n",
    "Retailer_8 = Retailer_8_History.Magic_Touch()"
   ]
  },
  {
   "cell_type": "code",
   "execution_count": 33,
   "metadata": {},
   "outputs": [
    {
     "name": "stdout",
     "output_type": "stream",
     "text": [
      "Class Initialized.\n"
     ]
    }
   ],
   "source": [
    "Retailer_9_History = History(Retailer_9)\n",
    "Retailer_9 = Retailer_9_History.Magic_Touch()"
   ]
  },
  {
   "cell_type": "code",
   "execution_count": 34,
   "metadata": {},
   "outputs": [],
   "source": [
    "Retailer_1 = Retailer_1.Update_History()"
   ]
  },
  {
   "cell_type": "code",
   "execution_count": 35,
   "metadata": {},
   "outputs": [],
   "source": [
    "Retailer_2 = Retailer_2.Update_History()"
   ]
  },
  {
   "cell_type": "code",
   "execution_count": 36,
   "metadata": {},
   "outputs": [],
   "source": [
    "Retailer_3 = Retailer_3.Update_History()"
   ]
  },
  {
   "cell_type": "code",
   "execution_count": 37,
   "metadata": {},
   "outputs": [],
   "source": [
    "Retailer_4 = Retailer_4.Update_History()"
   ]
  },
  {
   "cell_type": "code",
   "execution_count": 38,
   "metadata": {},
   "outputs": [],
   "source": [
    "Retailer_5 = Retailer_5.Update_History()"
   ]
  },
  {
   "cell_type": "code",
   "execution_count": 39,
   "metadata": {},
   "outputs": [],
   "source": [
    "Retailer_6 = Retailer_6.Update_History()"
   ]
  },
  {
   "cell_type": "code",
   "execution_count": 40,
   "metadata": {},
   "outputs": [],
   "source": [
    "Retailer_7 = Retailer_7.Update_History()"
   ]
  },
  {
   "cell_type": "code",
   "execution_count": 41,
   "metadata": {},
   "outputs": [],
   "source": [
    "Retailer_8 = Retailer_8.Update_History()"
   ]
  },
  {
   "cell_type": "code",
   "execution_count": 42,
   "metadata": {},
   "outputs": [],
   "source": [
    "Retailer_9 = Retailer_9.Update_History()"
   ]
  },
  {
   "cell_type": "code",
   "execution_count": 43,
   "metadata": {},
   "outputs": [
    {
     "name": "stdout",
     "output_type": "stream",
     "text": [
      "Warehouse created succesfully.\n"
     ]
    }
   ],
   "source": [
    "Warehouse_1 = Warehouse(size = 294, max_order_limit = 33, signature = 'Warehouse_1')"
   ]
  },
  {
   "cell_type": "code",
   "execution_count": 44,
   "metadata": {},
   "outputs": [
    {
     "name": "stdout",
     "output_type": "stream",
     "text": [
      "Warehouse created succesfully.\n"
     ]
    }
   ],
   "source": [
    "Warehouse_2 = Warehouse(size = 588, max_order_limit = 33, signature = 'Warehouse_2')"
   ]
  },
  {
   "cell_type": "code",
   "execution_count": 45,
   "metadata": {},
   "outputs": [
    {
     "name": "stdout",
     "output_type": "stream",
     "text": [
      "Warehouse created succesfully.\n"
     ]
    }
   ],
   "source": [
    "Warehouse_3 = Warehouse(size = 686, max_order_limit = 33, signature = 'Warehouse_3')"
   ]
  },
  {
   "cell_type": "code",
   "execution_count": 46,
   "metadata": {},
   "outputs": [
    {
     "name": "stdout",
     "output_type": "stream",
     "text": [
      "Region created successfully.\n",
      "Retailer added successfully.\n",
      "Retailer added successfully.\n",
      "Retailer added successfully.\n",
      "Warehouse added successfully.\n"
     ]
    }
   ],
   "source": [
    "Region_1 = Region('Region_1')\n",
    "Region_1 = Region_1.Add_Retailer(Retailer_1)\n",
    "Region_1 = Region_1.Add_Retailer(Retailer_2)\n",
    "Region_1 = Region_1.Add_Retailer(Retailer_7)\n",
    "Region_1 = Region_1.Add_Warehouse(Warehouse_1)"
   ]
  },
  {
   "cell_type": "code",
   "execution_count": 47,
   "metadata": {},
   "outputs": [
    {
     "name": "stdout",
     "output_type": "stream",
     "text": [
      "Region created successfully.\n",
      "Retailer added successfully.\n",
      "Retailer added successfully.\n",
      "Retailer added successfully.\n",
      "Retailer added successfully.\n",
      "Warehouse added successfully.\n"
     ]
    }
   ],
   "source": [
    "Region_2 = Region('Region_2')\n",
    "Region_2 = Region_2.Add_Retailer(Retailer_3)\n",
    "Region_2 = Region_2.Add_Retailer(Retailer_4)\n",
    "Region_2 = Region_2.Add_Retailer(Retailer_5)\n",
    "Region_2 = Region_2.Add_Retailer(Retailer_6)\n",
    "Region_2 = Region_2.Add_Warehouse(Warehouse_2)"
   ]
  },
  {
   "cell_type": "code",
   "execution_count": 48,
   "metadata": {},
   "outputs": [
    {
     "name": "stdout",
     "output_type": "stream",
     "text": [
      "Region created successfully.\n",
      "Retailer added successfully.\n",
      "Retailer added successfully.\n",
      "Warehouse added successfully.\n"
     ]
    }
   ],
   "source": [
    "Region_3 = Region('Region_3')\n",
    "Region_3 = Region_3.Add_Retailer(Retailer_8)\n",
    "Region_3 = Region_3.Add_Retailer(Retailer_9)\n",
    "Region_3 = Region_3.Add_Warehouse(Warehouse_3)"
   ]
  },
  {
   "cell_type": "code",
   "execution_count": 49,
   "metadata": {},
   "outputs": [],
   "source": [
    "Retailer_1 = Retailer_1.Add_Preference(name = 'Warehouse_1', key = 27, value = Warehouse_1)\n",
    "Retailer_1 = Retailer_1.Add_Preference(name = 'Warehouse_2', key = 46, value = Warehouse_2)\n",
    "Retailer_1 = Retailer_1.Add_Preference(name = 'Warehouse_3', key = 53, value = Warehouse_3)"
   ]
  },
  {
   "cell_type": "code",
   "execution_count": 50,
   "metadata": {},
   "outputs": [],
   "source": [
    "Retailer_2 = Retailer_2.Add_Preference(name = 'Warehouse_1', key = 10, value = Warehouse_1)\n",
    "Retailer_2 = Retailer_2.Add_Preference(name = 'Warehouse_3', key = 16, value = Warehouse_3)\n",
    "Retailer_2 = Retailer_2.Add_Preference(name = 'Warehouse_2', key = 29, value = Warehouse_2)"
   ]
  },
  {
   "cell_type": "code",
   "execution_count": 51,
   "metadata": {},
   "outputs": [],
   "source": [
    "Retailer_3 = Retailer_3.Add_Preference(name = 'Warehouse_2', key = 20, value = Warehouse_2)\n",
    "Retailer_3 = Retailer_3.Add_Preference(name = 'Warehouse_1', key = 39, value = Warehouse_1)\n",
    "Retailer_3 = Retailer_3.Add_Preference(name = 'Warehouse_3', key = 65, value = Warehouse_3)"
   ]
  },
  {
   "cell_type": "code",
   "execution_count": 52,
   "metadata": {},
   "outputs": [],
   "source": [
    "Retailer_4 = Retailer_4.Add_Preference(name = 'Warehouse_2', key = 11, value = Warehouse_2)\n",
    "Retailer_4 = Retailer_4.Add_Preference(name = 'Warehouse_1', key = 30, value = Warehouse_1)\n",
    "Retailer_4 = Retailer_4.Add_Preference(name = 'Warehouse_3', key = 56, value = Warehouse_3)"
   ]
  },
  {
   "cell_type": "code",
   "execution_count": 53,
   "metadata": {},
   "outputs": [],
   "source": [
    "Retailer_5 = Retailer_5.Add_Preference(name = 'Warehouse_2', key = 33, value = Warehouse_2)\n",
    "Retailer_5 = Retailer_5.Add_Preference(name = 'Warehouse_1', key = 52, value = Warehouse_1)\n",
    "Retailer_5 = Retailer_5.Add_Preference(name = 'Warehouse_3', key = 77, value = Warehouse_3)"
   ]
  },
  {
   "cell_type": "code",
   "execution_count": 54,
   "metadata": {},
   "outputs": [],
   "source": [
    "Retailer_6 = Retailer_6.Add_Preference(name = 'Warehouse_2', key = 50, value = Warehouse_2)\n",
    "Retailer_6 = Retailer_6.Add_Preference(name = 'Warehouse_3', key = 60, value = Warehouse_3)\n",
    "Retailer_6 = Retailer_6.Add_Preference(name = 'Warehouse_1', key = 69, value = Warehouse_1)"
   ]
  },
  {
   "cell_type": "code",
   "execution_count": 55,
   "metadata": {},
   "outputs": [],
   "source": [
    "Retailer_7 = Retailer_7.Add_Preference(name = 'Warehouse_1', key = 44, value = Warehouse_1)\n",
    "Retailer_7 = Retailer_7.Add_Preference(name = 'Warehouse_2', key = 50, value = Warehouse_2)\n",
    "Retailer_7 = Retailer_7.Add_Preference(name = 'Warehouse_3', key = 63, value = Warehouse_3)"
   ]
  },
  {
   "cell_type": "code",
   "execution_count": 56,
   "metadata": {},
   "outputs": [],
   "source": [
    "Retailer_8 = Retailer_8.Add_Preference(name = 'Warehouse_3', key = 10, value = Warehouse_3)\n",
    "Retailer_8 = Retailer_8.Add_Preference(name = 'Warehouse_1', key = 36, value = Warehouse_1)\n",
    "Retailer_8 = Retailer_8.Add_Preference(name = 'Warehouse_2', key = 55, value = Warehouse_2)"
   ]
  },
  {
   "cell_type": "code",
   "execution_count": 57,
   "metadata": {},
   "outputs": [],
   "source": [
    "Retailer_9 = Retailer_9.Add_Preference(name = 'Warehouse_3', key = 55, value = Warehouse_3)\n",
    "Retailer_9 = Retailer_9.Add_Preference(name = 'Warehouse_1', key = 81, value = Warehouse_1)\n",
    "Retailer_9 = Retailer_9.Add_Preference(name = 'Warehouse_2', key = 100, value = Warehouse_2)"
   ]
  },
  {
   "cell_type": "code",
   "execution_count": 58,
   "metadata": {
    "scrolled": false
   },
   "outputs": [
    {
     "name": "stdout",
     "output_type": "stream",
     "text": [
      "self.predict_orders: \n",
      "Empty DataFrame\n",
      "Columns: [Product_id, month, week, Warehouse_Name, Order_Units, distance, Additional_Costs]\n",
      "Index: []\n",
      "self.predict_orders: \n",
      "  Product_id month week Warehouse_Name Order_Units distance  Additional_Costs\n",
      "0          1     1    1    Warehouse_1          32       27           25.5953\n",
      "1          1     1    1    Warehouse_2           0       46            0.0000\n",
      "2          1     1    1    Warehouse_3           0       53            0.0000\n",
      "self.predict_orders: \n",
      "  Product_id month week Warehouse_Name Order_Units distance  Additional_Costs\n",
      "0          1     1    1    Warehouse_1          32       27           25.5953\n",
      "1          1     1    1    Warehouse_2           0       46            0.0000\n",
      "2          1     1    1    Warehouse_3           0       53            0.0000\n",
      "3          2     1    1    Warehouse_1          31       27           25.0253\n",
      "4          2     1    1    Warehouse_2           0       46            0.0000\n",
      "5          2     1    1    Warehouse_3           0       53            0.0000\n",
      "self.predict_orders: \n",
      "  Product_id month week Warehouse_Name Order_Units distance  Additional_Costs\n",
      "0          1     1    1    Warehouse_1          32       27           25.5953\n",
      "1          1     1    1    Warehouse_2           0       46            0.0000\n",
      "2          1     1    1    Warehouse_3           0       53            0.0000\n",
      "3          2     1    1    Warehouse_1          31       27           25.0253\n",
      "4          2     1    1    Warehouse_2           0       46            0.0000\n",
      "5          2     1    1    Warehouse_3           0       53            0.0000\n",
      "6          3     1    1    Warehouse_1          30       27           24.4554\n",
      "7          3     1    1    Warehouse_2           0       46            0.0000\n",
      "8          3     1    1    Warehouse_3           0       53            0.0000\n",
      "self.predict_orders: \n",
      "   Product_id month week Warehouse_Name Order_Units distance  Additional_Costs\n",
      "0           1     1    1    Warehouse_1          32       27           25.5953\n",
      "1           1     1    1    Warehouse_2           0       46            0.0000\n",
      "2           1     1    1    Warehouse_3           0       53            0.0000\n",
      "3           2     1    1    Warehouse_1          31       27           25.0253\n",
      "4           2     1    1    Warehouse_2           0       46            0.0000\n",
      "5           2     1    1    Warehouse_3           0       53            0.0000\n",
      "6           3     1    1    Warehouse_1          30       27           24.4554\n",
      "7           3     1    1    Warehouse_2           0       46            0.0000\n",
      "8           3     1    1    Warehouse_3           0       53            0.0000\n",
      "9           4     1    1    Warehouse_1          31       27           25.0253\n",
      "10          4     1    1    Warehouse_2           0       46            0.0000\n",
      "11          4     1    1    Warehouse_3           0       53            0.0000\n",
      "self.predict_orders: \n",
      "   Product_id month week Warehouse_Name Order_Units distance  Additional_Costs\n",
      "0           1     1    1    Warehouse_1          32       27           25.5953\n",
      "1           1     1    1    Warehouse_2           0       46            0.0000\n",
      "2           1     1    1    Warehouse_3           0       53            0.0000\n",
      "3           2     1    1    Warehouse_1          31       27           25.0253\n",
      "4           2     1    1    Warehouse_2           0       46            0.0000\n",
      "5           2     1    1    Warehouse_3           0       53            0.0000\n",
      "6           3     1    1    Warehouse_1          30       27           24.4554\n",
      "7           3     1    1    Warehouse_2           0       46            0.0000\n",
      "8           3     1    1    Warehouse_3           0       53            0.0000\n",
      "9           4     1    1    Warehouse_1          31       27           25.0253\n",
      "10          4     1    1    Warehouse_2           0       46            0.0000\n",
      "11          4     1    1    Warehouse_3           0       53            0.0000\n",
      "12          5     1    1    Warehouse_1          31       27           25.0253\n",
      "13          5     1    1    Warehouse_2           0       46            0.0000\n",
      "14          5     1    1    Warehouse_3           0       53            0.0000\n"
     ]
    }
   ],
   "source": [
    "Retailer_1 = Retailer_1.Predict_Order_Levels(month = 1, week = 1)\n",
    "#Retailer_1.predict_orders"
   ]
  },
  {
   "cell_type": "code",
   "execution_count": 59,
   "metadata": {
    "scrolled": false
   },
   "outputs": [
    {
     "name": "stdout",
     "output_type": "stream",
     "text": [
      "self.predict_orders: \n",
      "Empty DataFrame\n",
      "Columns: [Product_id, month, week, Warehouse_Name, Order_Units, distance, Additional_Costs]\n",
      "Index: []\n",
      "self.predict_orders: \n",
      "  Product_id month week Warehouse_Name Order_Units distance  Additional_Costs\n",
      "0          1     1    1    Warehouse_1          29       10           20.5932\n",
      "1          1     1    1    Warehouse_3           0       16            0.0000\n",
      "2          1     1    1    Warehouse_2           0       29            0.0000\n",
      "self.predict_orders: \n",
      "  Product_id month week Warehouse_Name Order_Units distance  Additional_Costs\n",
      "0          1     1    1    Warehouse_1          29       10           20.5932\n",
      "1          1     1    1    Warehouse_3           0       16            0.0000\n",
      "2          1     1    1    Warehouse_2           0       29            0.0000\n",
      "3          2     1    1    Warehouse_1          31       10           21.8121\n",
      "4          2     1    1    Warehouse_3           0       16            0.0000\n",
      "5          2     1    1    Warehouse_2           0       29            0.0000\n",
      "self.predict_orders: \n",
      "  Product_id month week Warehouse_Name Order_Units distance  Additional_Costs\n",
      "0          1     1    1    Warehouse_1          29       10           20.5932\n",
      "1          1     1    1    Warehouse_3           0       16            0.0000\n",
      "2          1     1    1    Warehouse_2           0       29            0.0000\n",
      "3          2     1    1    Warehouse_1          31       10           21.8121\n",
      "4          2     1    1    Warehouse_3           0       16            0.0000\n",
      "5          2     1    1    Warehouse_2           0       29            0.0000\n",
      "6          3     1    1    Warehouse_1          29       10           20.5932\n",
      "7          3     1    1    Warehouse_3           5       16            7.9436\n",
      "8          3     1    1    Warehouse_2           0       29            0.0000\n",
      "self.predict_orders: \n",
      "   Product_id month week Warehouse_Name Order_Units distance  Additional_Costs\n",
      "0           1     1    1    Warehouse_1          29       10           20.5932\n",
      "1           1     1    1    Warehouse_3           0       16            0.0000\n",
      "2           1     1    1    Warehouse_2           0       29            0.0000\n",
      "3           2     1    1    Warehouse_1          31       10           21.8121\n",
      "4           2     1    1    Warehouse_3           0       16            0.0000\n",
      "5           2     1    1    Warehouse_2           0       29            0.0000\n",
      "6           3     1    1    Warehouse_1          29       10           20.5932\n",
      "7           3     1    1    Warehouse_3           5       16            7.9436\n",
      "8           3     1    1    Warehouse_2           0       29            0.0000\n",
      "9           4     1    1    Warehouse_1          32       10           22.4216\n",
      "10          4     1    1    Warehouse_3           0       16            0.0000\n",
      "11          4     1    1    Warehouse_2           0       29            0.0000\n",
      "self.predict_orders: \n",
      "   Product_id month week Warehouse_Name Order_Units distance  Additional_Costs\n",
      "0           1     1    1    Warehouse_1          29       10           20.5932\n",
      "1           1     1    1    Warehouse_3           0       16            0.0000\n",
      "2           1     1    1    Warehouse_2           0       29            0.0000\n",
      "3           2     1    1    Warehouse_1          31       10           21.8121\n",
      "4           2     1    1    Warehouse_3           0       16            0.0000\n",
      "5           2     1    1    Warehouse_2           0       29            0.0000\n",
      "6           3     1    1    Warehouse_1          29       10           20.5932\n",
      "7           3     1    1    Warehouse_3           5       16            7.9436\n",
      "8           3     1    1    Warehouse_2           0       29            0.0000\n",
      "9           4     1    1    Warehouse_1          32       10           22.4216\n",
      "10          4     1    1    Warehouse_3           0       16            0.0000\n",
      "11          4     1    1    Warehouse_2           0       29            0.0000\n",
      "12          5     1    1    Warehouse_1          29       10           20.5932\n",
      "13          5     1    1    Warehouse_3           0       16            0.0000\n",
      "14          5     1    1    Warehouse_2           0       29            0.0000\n"
     ]
    }
   ],
   "source": [
    "Retailer_2 = Retailer_2.Predict_Order_Levels(month = 1, week = 1)\n",
    "#Retailer_2.predict_orders"
   ]
  },
  {
   "cell_type": "code",
   "execution_count": 60,
   "metadata": {
    "scrolled": false
   },
   "outputs": [
    {
     "name": "stdout",
     "output_type": "stream",
     "text": [
      "self.predict_orders: \n",
      "Empty DataFrame\n",
      "Columns: [Product_id, month, week, Warehouse_Name, Order_Units, distance, Additional_Costs]\n",
      "Index: []\n",
      "self.predict_orders: \n",
      "  Product_id month week Warehouse_Name Order_Units distance  Additional_Costs\n",
      "0          1     1    1    Warehouse_2          12       20           12.9038\n",
      "1          1     1    1    Warehouse_1          23       39           24.0317\n",
      "2          1     1    1    Warehouse_3           0       65            0.0000\n",
      "self.predict_orders: \n",
      "  Product_id month week Warehouse_Name Order_Units distance  Additional_Costs\n",
      "0          1     1    1    Warehouse_2          12       20           12.9038\n",
      "1          1     1    1    Warehouse_1          23       39           24.0317\n",
      "2          1     1    1    Warehouse_3           0       65            0.0000\n",
      "3          2     1    1    Warehouse_2          29       20           22.9146\n",
      "4          2     1    1    Warehouse_1           0       39            0.0000\n",
      "5          2     1    1    Warehouse_3           0       65            0.0000\n",
      "self.predict_orders: \n",
      "  Product_id month week Warehouse_Name Order_Units distance  Additional_Costs\n",
      "0          1     1    1    Warehouse_2          12       20           12.9038\n",
      "1          1     1    1    Warehouse_1          23       39           24.0317\n",
      "2          1     1    1    Warehouse_3           0       65            0.0000\n",
      "3          2     1    1    Warehouse_2          29       20           22.9146\n",
      "4          2     1    1    Warehouse_1           0       39            0.0000\n",
      "5          2     1    1    Warehouse_3           0       65            0.0000\n",
      "6          3     1    1    Warehouse_2          30       20           23.5035\n",
      "7          3     1    1    Warehouse_1           0       39            0.0000\n",
      "8          3     1    1    Warehouse_3           0       65            0.0000\n",
      "self.predict_orders: \n",
      "   Product_id month week Warehouse_Name Order_Units distance  Additional_Costs\n",
      "0           1     1    1    Warehouse_2          12       20           12.9038\n",
      "1           1     1    1    Warehouse_1          23       39           24.0317\n",
      "2           1     1    1    Warehouse_3           0       65            0.0000\n",
      "3           2     1    1    Warehouse_2          29       20           22.9146\n",
      "4           2     1    1    Warehouse_1           0       39            0.0000\n",
      "5           2     1    1    Warehouse_3           0       65            0.0000\n",
      "6           3     1    1    Warehouse_2          30       20           23.5035\n",
      "7           3     1    1    Warehouse_1           0       39            0.0000\n",
      "8           3     1    1    Warehouse_3           0       65            0.0000\n",
      "9           4     1    1    Warehouse_2          12       20           12.9038\n",
      "10          4     1    1    Warehouse_1          23       39           24.0317\n",
      "11          4     1    1    Warehouse_3           0       65            0.0000\n",
      "self.predict_orders: \n",
      "   Product_id month week Warehouse_Name Order_Units distance  Additional_Costs\n",
      "0           1     1    1    Warehouse_2          12       20           12.9038\n",
      "1           1     1    1    Warehouse_1          23       39           24.0317\n",
      "2           1     1    1    Warehouse_3           0       65            0.0000\n",
      "3           2     1    1    Warehouse_2          29       20           22.9146\n",
      "4           2     1    1    Warehouse_1           0       39            0.0000\n",
      "5           2     1    1    Warehouse_3           0       65            0.0000\n",
      "6           3     1    1    Warehouse_2          30       20           23.5035\n",
      "7           3     1    1    Warehouse_1           0       39            0.0000\n",
      "8           3     1    1    Warehouse_3           0       65            0.0000\n",
      "9           4     1    1    Warehouse_2          12       20           12.9038\n",
      "10          4     1    1    Warehouse_1          23       39           24.0317\n",
      "11          4     1    1    Warehouse_3           0       65            0.0000\n",
      "12          5     1    1    Warehouse_2          26       20           21.1480\n",
      "13          5     1    1    Warehouse_1           0       39            0.0000\n",
      "14          5     1    1    Warehouse_3           0       65            0.0000\n"
     ]
    }
   ],
   "source": [
    "Retailer_3 = Retailer_3.Predict_Order_Levels(month = 1, week = 1)\n",
    "#Retailer_3.predict_orders"
   ]
  },
  {
   "cell_type": "code",
   "execution_count": 61,
   "metadata": {
    "scrolled": false
   },
   "outputs": [
    {
     "name": "stdout",
     "output_type": "stream",
     "text": [
      "self.predict_orders: \n",
      "Empty DataFrame\n",
      "Columns: [Product_id, month, week, Warehouse_Name, Order_Units, distance, Additional_Costs]\n",
      "Index: []\n",
      "self.predict_orders: \n",
      "  Product_id month week Warehouse_Name Order_Units distance  Additional_Costs\n",
      "0          1     1    1    Warehouse_2          33       11           23.4071\n",
      "1          1     1    1    Warehouse_1           5       30           11.1567\n",
      "2          1     1    1    Warehouse_3           0       56            0.0000\n",
      "self.predict_orders: \n",
      "  Product_id month week Warehouse_Name Order_Units distance  Additional_Costs\n",
      "0          1     1    1    Warehouse_2          33       11           23.4071\n",
      "1          1     1    1    Warehouse_1           5       30           11.1567\n",
      "2          1     1    1    Warehouse_3           0       56            0.0000\n",
      "3          2     1    1    Warehouse_2          31       11           22.1999\n",
      "4          2     1    1    Warehouse_1           0       30            0.0000\n",
      "5          2     1    1    Warehouse_3           0       56            0.0000\n",
      "self.predict_orders: \n",
      "  Product_id month week Warehouse_Name Order_Units distance  Additional_Costs\n",
      "0          1     1    1    Warehouse_2          33       11           23.4071\n",
      "1          1     1    1    Warehouse_1           5       30           11.1567\n",
      "2          1     1    1    Warehouse_3           0       56            0.0000\n",
      "3          2     1    1    Warehouse_2          31       11           22.1999\n",
      "4          2     1    1    Warehouse_1           0       30            0.0000\n",
      "5          2     1    1    Warehouse_3           0       56            0.0000\n",
      "6          3     1    1    Warehouse_2          25       11           18.5783\n",
      "7          3     1    1    Warehouse_1           0       30            0.0000\n",
      "8          3     1    1    Warehouse_3           0       56            0.0000\n",
      "self.predict_orders: \n",
      "   Product_id month week Warehouse_Name Order_Units distance  Additional_Costs\n",
      "0           1     1    1    Warehouse_2          33       11           23.4071\n",
      "1           1     1    1    Warehouse_1           5       30           11.1567\n",
      "2           1     1    1    Warehouse_3           0       56            0.0000\n",
      "3           2     1    1    Warehouse_2          31       11           22.1999\n",
      "4           2     1    1    Warehouse_1           0       30            0.0000\n",
      "5           2     1    1    Warehouse_3           0       56            0.0000\n",
      "6           3     1    1    Warehouse_2          25       11           18.5783\n",
      "7           3     1    1    Warehouse_1           0       30            0.0000\n",
      "8           3     1    1    Warehouse_3           0       56            0.0000\n",
      "9           4     1    1    Warehouse_2          29       11           20.9927\n",
      "10          4     1    1    Warehouse_1           5       30           11.1567\n",
      "11          4     1    1    Warehouse_3           0       56            0.0000\n",
      "self.predict_orders: \n",
      "   Product_id month week Warehouse_Name Order_Units distance  Additional_Costs\n",
      "0           1     1    1    Warehouse_2          33       11           23.4071\n",
      "1           1     1    1    Warehouse_1           5       30           11.1567\n",
      "2           1     1    1    Warehouse_3           0       56            0.0000\n",
      "3           2     1    1    Warehouse_2          31       11           22.1999\n",
      "4           2     1    1    Warehouse_1           0       30            0.0000\n",
      "5           2     1    1    Warehouse_3           0       56            0.0000\n",
      "6           3     1    1    Warehouse_2          25       11           18.5783\n",
      "7           3     1    1    Warehouse_1           0       30            0.0000\n",
      "8           3     1    1    Warehouse_3           0       56            0.0000\n",
      "9           4     1    1    Warehouse_2          29       11           20.9927\n",
      "10          4     1    1    Warehouse_1           5       30           11.1567\n",
      "11          4     1    1    Warehouse_3           0       56            0.0000\n",
      "12          5     1    1    Warehouse_2          33       11           23.4071\n",
      "13          5     1    1    Warehouse_1           0       30            0.0000\n",
      "14          5     1    1    Warehouse_3           0       56            0.0000\n"
     ]
    }
   ],
   "source": [
    "Retailer_4 = Retailer_4.Predict_Order_Levels(month = 1, week = 1)\n",
    "#Retailer_4.predict_orders"
   ]
  },
  {
   "cell_type": "code",
   "execution_count": 62,
   "metadata": {
    "scrolled": false
   },
   "outputs": [
    {
     "name": "stdout",
     "output_type": "stream",
     "text": [
      "self.predict_orders: \n",
      "Empty DataFrame\n",
      "Columns: [Product_id, month, week, Warehouse_Name, Order_Units, distance, Additional_Costs]\n",
      "Index: []\n",
      "self.predict_orders: \n",
      "  Product_id month week Warehouse_Name Order_Units distance  Additional_Costs\n",
      "0          1     1    1    Warehouse_2          29       33           26.9229\n",
      "1          1     1    1    Warehouse_1           0       52            0.0000\n",
      "2          1     1    1    Warehouse_3           0       77            0.0000\n",
      "self.predict_orders: \n",
      "  Product_id month week Warehouse_Name Order_Units distance  Additional_Costs\n",
      "0          1     1    1    Warehouse_2          29       33           26.9229\n",
      "1          1     1    1    Warehouse_1           0       52            0.0000\n",
      "2          1     1    1    Warehouse_3           0       77            0.0000\n",
      "3          2     1    1    Warehouse_2          30       33           27.5330\n",
      "4          2     1    1    Warehouse_1           0       52            0.0000\n",
      "5          2     1    1    Warehouse_3           0       77            0.0000\n",
      "self.predict_orders: \n",
      "  Product_id month week Warehouse_Name Order_Units distance  Additional_Costs\n",
      "0          1     1    1    Warehouse_2          29       33           26.9229\n",
      "1          1     1    1    Warehouse_1           0       52            0.0000\n",
      "2          1     1    1    Warehouse_3           0       77            0.0000\n",
      "3          2     1    1    Warehouse_2          30       33           27.5330\n",
      "4          2     1    1    Warehouse_1           0       52            0.0000\n",
      "5          2     1    1    Warehouse_3           0       77            0.0000\n",
      "6          3     1    1    Warehouse_2          29       33           26.9229\n",
      "7          3     1    1    Warehouse_1           0       52            0.0000\n",
      "8          3     1    1    Warehouse_3           0       77            0.0000\n",
      "self.predict_orders: \n",
      "   Product_id month week Warehouse_Name Order_Units distance  Additional_Costs\n",
      "0           1     1    1    Warehouse_2          29       33           26.9229\n",
      "1           1     1    1    Warehouse_1           0       52            0.0000\n",
      "2           1     1    1    Warehouse_3           0       77            0.0000\n",
      "3           2     1    1    Warehouse_2          30       33           27.5330\n",
      "4           2     1    1    Warehouse_1           0       52            0.0000\n",
      "5           2     1    1    Warehouse_3           0       77            0.0000\n",
      "6           3     1    1    Warehouse_2          29       33           26.9229\n",
      "7           3     1    1    Warehouse_1           0       52            0.0000\n",
      "8           3     1    1    Warehouse_3           0       77            0.0000\n",
      "9           4     1    1    Warehouse_2          28       33           26.3129\n",
      "10          4     1    1    Warehouse_1           0       52            0.0000\n",
      "11          4     1    1    Warehouse_3           0       77            0.0000\n",
      "self.predict_orders: \n",
      "   Product_id month week Warehouse_Name Order_Units distance  Additional_Costs\n",
      "0           1     1    1    Warehouse_2          29       33           26.9229\n",
      "1           1     1    1    Warehouse_1           0       52            0.0000\n",
      "2           1     1    1    Warehouse_3           0       77            0.0000\n",
      "3           2     1    1    Warehouse_2          30       33           27.5330\n",
      "4           2     1    1    Warehouse_1           0       52            0.0000\n",
      "5           2     1    1    Warehouse_3           0       77            0.0000\n",
      "6           3     1    1    Warehouse_2          29       33           26.9229\n",
      "7           3     1    1    Warehouse_1           0       52            0.0000\n",
      "8           3     1    1    Warehouse_3           0       77            0.0000\n",
      "9           4     1    1    Warehouse_2          28       33           26.3129\n",
      "10          4     1    1    Warehouse_1           0       52            0.0000\n",
      "11          4     1    1    Warehouse_3           0       77            0.0000\n",
      "12          5     1    1    Warehouse_2          31       33           28.1431\n",
      "13          5     1    1    Warehouse_1           0       52            0.0000\n",
      "14          5     1    1    Warehouse_3           0       77            0.0000\n"
     ]
    }
   ],
   "source": [
    "Retailer_5 = Retailer_5.Predict_Order_Levels(month = 1, week = 1)\n",
    "#Retailer_5.predict_orders"
   ]
  },
  {
   "cell_type": "code",
   "execution_count": 63,
   "metadata": {
    "scrolled": false
   },
   "outputs": [
    {
     "name": "stdout",
     "output_type": "stream",
     "text": [
      "self.predict_orders: \n",
      "Empty DataFrame\n",
      "Columns: [Product_id, month, week, Warehouse_Name, Order_Units, distance, Additional_Costs]\n",
      "Index: []\n",
      "self.predict_orders: \n",
      "  Product_id month week Warehouse_Name Order_Units distance  Additional_Costs\n",
      "0          1     1    1    Warehouse_2          32       50           32.8352\n",
      "1          1     1    1    Warehouse_3           5       60           19.3753\n",
      "2          1     1    1    Warehouse_1           0       69            0.0000\n",
      "self.predict_orders: \n",
      "  Product_id month week Warehouse_Name Order_Units distance  Additional_Costs\n",
      "0          1     1    1    Warehouse_2          32       50           32.8352\n",
      "1          1     1    1    Warehouse_3           5       60           19.3753\n",
      "2          1     1    1    Warehouse_1           0       69            0.0000\n",
      "3          2     1    1    Warehouse_2          30       50           31.6373\n",
      "4          2     1    1    Warehouse_3           5       60           19.3753\n",
      "5          2     1    1    Warehouse_1           0       69            0.0000\n",
      "self.predict_orders: \n",
      "  Product_id month week Warehouse_Name Order_Units distance  Additional_Costs\n",
      "0          1     1    1    Warehouse_2          32       50           32.8352\n",
      "1          1     1    1    Warehouse_3           5       60           19.3753\n",
      "2          1     1    1    Warehouse_1           0       69            0.0000\n",
      "3          2     1    1    Warehouse_2          30       50           31.6373\n",
      "4          2     1    1    Warehouse_3           5       60           19.3753\n",
      "5          2     1    1    Warehouse_1           0       69            0.0000\n",
      "6          3     1    1    Warehouse_2          30       50           31.6373\n",
      "7          3     1    1    Warehouse_3           0       60            0.0000\n",
      "8          3     1    1    Warehouse_1           0       69            0.0000\n",
      "self.predict_orders: \n",
      "   Product_id month week Warehouse_Name Order_Units distance  Additional_Costs\n",
      "0           1     1    1    Warehouse_2          32       50           32.8352\n",
      "1           1     1    1    Warehouse_3           5       60           19.3753\n",
      "2           1     1    1    Warehouse_1           0       69            0.0000\n",
      "3           2     1    1    Warehouse_2          30       50           31.6373\n",
      "4           2     1    1    Warehouse_3           5       60           19.3753\n",
      "5           2     1    1    Warehouse_1           0       69            0.0000\n",
      "6           3     1    1    Warehouse_2          30       50           31.6373\n",
      "7           3     1    1    Warehouse_3           0       60            0.0000\n",
      "8           3     1    1    Warehouse_1           0       69            0.0000\n",
      "9           4     1    1    Warehouse_2          28       50           30.4393\n",
      "10          4     1    1    Warehouse_3           0       60            0.0000\n",
      "11          4     1    1    Warehouse_1           0       69            0.0000\n",
      "self.predict_orders: \n",
      "   Product_id month week Warehouse_Name Order_Units distance  Additional_Costs\n",
      "0           1     1    1    Warehouse_2          32       50           32.8352\n",
      "1           1     1    1    Warehouse_3           5       60           19.3753\n",
      "2           1     1    1    Warehouse_1           0       69            0.0000\n",
      "3           2     1    1    Warehouse_2          30       50           31.6373\n",
      "4           2     1    1    Warehouse_3           5       60           19.3753\n",
      "5           2     1    1    Warehouse_1           0       69            0.0000\n",
      "6           3     1    1    Warehouse_2          30       50           31.6373\n",
      "7           3     1    1    Warehouse_3           0       60            0.0000\n",
      "8           3     1    1    Warehouse_1           0       69            0.0000\n",
      "9           4     1    1    Warehouse_2          28       50           30.4393\n",
      "10          4     1    1    Warehouse_3           0       60            0.0000\n",
      "11          4     1    1    Warehouse_1           0       69            0.0000\n",
      "12          5     1    1    Warehouse_2          30       50           31.6373\n",
      "13          5     1    1    Warehouse_3           0       60            0.0000\n",
      "14          5     1    1    Warehouse_1           0       69            0.0000\n"
     ]
    }
   ],
   "source": [
    "Retailer_6 = Retailer_6.Predict_Order_Levels(month = 1, week = 1)\n",
    "#Retailer_6.predict_orders"
   ]
  },
  {
   "cell_type": "code",
   "execution_count": 64,
   "metadata": {
    "scrolled": false
   },
   "outputs": [
    {
     "name": "stdout",
     "output_type": "stream",
     "text": [
      "self.predict_orders: \n",
      "Empty DataFrame\n",
      "Columns: [Product_id, month, week, Warehouse_Name, Order_Units, distance, Additional_Costs]\n",
      "Index: []\n",
      "self.predict_orders: \n",
      "  Product_id month week Warehouse_Name Order_Units distance  Additional_Costs\n",
      "0          1     1    1    Warehouse_1          31       44           28.5083\n",
      "1          1     1    1    Warehouse_2           0       50            0.0000\n",
      "2          1     1    1    Warehouse_3           0       63            0.0000\n",
      "self.predict_orders: \n",
      "  Product_id month week Warehouse_Name Order_Units distance  Additional_Costs\n",
      "0          1     1    1    Warehouse_1          31       44           28.5083\n",
      "1          1     1    1    Warehouse_2           0       50            0.0000\n",
      "2          1     1    1    Warehouse_3           0       63            0.0000\n",
      "3          2     1    1    Warehouse_1          31       44           28.5083\n",
      "4          2     1    1    Warehouse_2           5       50           16.3635\n",
      "5          2     1    1    Warehouse_3           0       63            0.0000\n",
      "self.predict_orders: \n",
      "  Product_id month week Warehouse_Name Order_Units distance  Additional_Costs\n",
      "0          1     1    1    Warehouse_1          31       44           28.5083\n",
      "1          1     1    1    Warehouse_2           0       50            0.0000\n",
      "2          1     1    1    Warehouse_3           0       63            0.0000\n",
      "3          2     1    1    Warehouse_1          31       44           28.5083\n",
      "4          2     1    1    Warehouse_2           5       50           16.3635\n",
      "5          2     1    1    Warehouse_3           0       63            0.0000\n",
      "6          3     1    1    Warehouse_1          28       44           26.8907\n",
      "7          3     1    1    Warehouse_2           0       50            0.0000\n",
      "8          3     1    1    Warehouse_3           0       63            0.0000\n",
      "self.predict_orders: \n",
      "   Product_id month week Warehouse_Name Order_Units distance  Additional_Costs\n",
      "0           1     1    1    Warehouse_1          31       44           28.5083\n",
      "1           1     1    1    Warehouse_2           0       50            0.0000\n",
      "2           1     1    1    Warehouse_3           0       63            0.0000\n",
      "3           2     1    1    Warehouse_1          31       44           28.5083\n",
      "4           2     1    1    Warehouse_2           5       50           16.3635\n",
      "5           2     1    1    Warehouse_3           0       63            0.0000\n",
      "6           3     1    1    Warehouse_1          28       44           26.8907\n",
      "7           3     1    1    Warehouse_2           0       50            0.0000\n",
      "8           3     1    1    Warehouse_3           0       63            0.0000\n",
      "9           4     1    1    Warehouse_1          30       44           27.9691\n",
      "10          4     1    1    Warehouse_2           0       50            0.0000\n",
      "11          4     1    1    Warehouse_3           0       63            0.0000\n",
      "self.predict_orders: \n",
      "   Product_id month week Warehouse_Name Order_Units distance  Additional_Costs\n",
      "0           1     1    1    Warehouse_1          31       44           28.5083\n",
      "1           1     1    1    Warehouse_2           0       50            0.0000\n",
      "2           1     1    1    Warehouse_3           0       63            0.0000\n",
      "3           2     1    1    Warehouse_1          31       44           28.5083\n",
      "4           2     1    1    Warehouse_2           5       50           16.3635\n",
      "5           2     1    1    Warehouse_3           0       63            0.0000\n",
      "6           3     1    1    Warehouse_1          28       44           26.8907\n",
      "7           3     1    1    Warehouse_2           0       50            0.0000\n",
      "8           3     1    1    Warehouse_3           0       63            0.0000\n",
      "9           4     1    1    Warehouse_1          30       44           27.9691\n",
      "10          4     1    1    Warehouse_2           0       50            0.0000\n",
      "11          4     1    1    Warehouse_3           0       63            0.0000\n",
      "12          5     1    1    Warehouse_1          32       44           29.0475\n",
      "13          5     1    1    Warehouse_2           0       50            0.0000\n",
      "14          5     1    1    Warehouse_3           0       63            0.0000\n"
     ]
    }
   ],
   "source": [
    "Retailer_7 = Retailer_7.Predict_Order_Levels(month = 1, week = 1)\n",
    "#Retailer_7.predict_orders"
   ]
  },
  {
   "cell_type": "code",
   "execution_count": 65,
   "metadata": {
    "scrolled": false
   },
   "outputs": [
    {
     "name": "stdout",
     "output_type": "stream",
     "text": [
      "self.predict_orders: \n",
      "Empty DataFrame\n",
      "Columns: [Product_id, month, week, Warehouse_Name, Order_Units, distance, Additional_Costs]\n",
      "Index: []\n",
      "self.predict_orders: \n",
      "  Product_id month week Warehouse_Name Order_Units distance  Additional_Costs\n",
      "0          1     1    1    Warehouse_3          28       10           19.1479\n",
      "1          1     1    1    Warehouse_1           0       36            0.0000\n",
      "2          1     1    1    Warehouse_2           0       55            0.0000\n",
      "self.predict_orders: \n",
      "  Product_id month week Warehouse_Name Order_Units distance  Additional_Costs\n",
      "0          1     1    1    Warehouse_3          28       10           19.1479\n",
      "1          1     1    1    Warehouse_1           0       36            0.0000\n",
      "2          1     1    1    Warehouse_2           0       55            0.0000\n",
      "3          2     1    1    Warehouse_3          33       10           21.9724\n",
      "4          2     1    1    Warehouse_1           0       36            0.0000\n",
      "5          2     1    1    Warehouse_2           0       55            0.0000\n",
      "self.predict_orders: \n",
      "  Product_id month week Warehouse_Name Order_Units distance  Additional_Costs\n",
      "0          1     1    1    Warehouse_3          28       10           19.1479\n",
      "1          1     1    1    Warehouse_1           0       36            0.0000\n",
      "2          1     1    1    Warehouse_2           0       55            0.0000\n",
      "3          2     1    1    Warehouse_3          33       10           21.9724\n",
      "4          2     1    1    Warehouse_1           0       36            0.0000\n",
      "5          2     1    1    Warehouse_2           0       55            0.0000\n",
      "6          3     1    1    Warehouse_3          28       10           19.1479\n",
      "7          3     1    1    Warehouse_1           0       36            0.0000\n",
      "8          3     1    1    Warehouse_2           0       55            0.0000\n",
      "self.predict_orders: \n",
      "   Product_id month week Warehouse_Name Order_Units distance  Additional_Costs\n",
      "0           1     1    1    Warehouse_3          28       10           19.1479\n",
      "1           1     1    1    Warehouse_1           0       36            0.0000\n",
      "2           1     1    1    Warehouse_2           0       55            0.0000\n",
      "3           2     1    1    Warehouse_3          33       10           21.9724\n",
      "4           2     1    1    Warehouse_1           0       36            0.0000\n",
      "5           2     1    1    Warehouse_2           0       55            0.0000\n",
      "6           3     1    1    Warehouse_3          28       10           19.1479\n",
      "7           3     1    1    Warehouse_1           0       36            0.0000\n",
      "8           3     1    1    Warehouse_2           0       55            0.0000\n",
      "9           4     1    1    Warehouse_3          29       10           19.7128\n",
      "10          4     1    1    Warehouse_1           0       36            0.0000\n",
      "11          4     1    1    Warehouse_2           0       55            0.0000\n",
      "self.predict_orders: \n",
      "   Product_id month week Warehouse_Name Order_Units distance  Additional_Costs\n",
      "0           1     1    1    Warehouse_3          28       10           19.1479\n",
      "1           1     1    1    Warehouse_1           0       36            0.0000\n",
      "2           1     1    1    Warehouse_2           0       55            0.0000\n",
      "3           2     1    1    Warehouse_3          33       10           21.9724\n",
      "4           2     1    1    Warehouse_1           0       36            0.0000\n",
      "5           2     1    1    Warehouse_2           0       55            0.0000\n",
      "6           3     1    1    Warehouse_3          28       10           19.1479\n",
      "7           3     1    1    Warehouse_1           0       36            0.0000\n",
      "8           3     1    1    Warehouse_2           0       55            0.0000\n",
      "9           4     1    1    Warehouse_3          29       10           19.7128\n",
      "10          4     1    1    Warehouse_1           0       36            0.0000\n",
      "11          4     1    1    Warehouse_2           0       55            0.0000\n",
      "12          5     1    1    Warehouse_3          30       10           20.2777\n",
      "13          5     1    1    Warehouse_1           0       36            0.0000\n",
      "14          5     1    1    Warehouse_2           0       55            0.0000\n"
     ]
    }
   ],
   "source": [
    "Retailer_8 = Retailer_8.Predict_Order_Levels(month = 1, week = 1)\n",
    "#Retailer_8.predict_orders"
   ]
  },
  {
   "cell_type": "code",
   "execution_count": 66,
   "metadata": {
    "scrolled": false
   },
   "outputs": [
    {
     "name": "stdout",
     "output_type": "stream",
     "text": [
      "self.predict_orders: \n",
      "Empty DataFrame\n",
      "Columns: [Product_id, month, week, Warehouse_Name, Order_Units, distance, Additional_Costs]\n",
      "Index: []\n",
      "self.predict_orders: \n",
      "  Product_id month week Warehouse_Name Order_Units distance  Additional_Costs\n",
      "0          1     1    1    Warehouse_3          31       55           33.1460\n",
      "1          1     1    1    Warehouse_1           5       81           24.3643\n",
      "2          1     1    1    Warehouse_2           0      100            0.0000\n",
      "self.predict_orders: \n",
      "  Product_id month week Warehouse_Name Order_Units distance  Additional_Costs\n",
      "0          1     1    1    Warehouse_3          31       55           33.1460\n",
      "1          1     1    1    Warehouse_1           5       81           24.3643\n",
      "2          1     1    1    Warehouse_2           0      100            0.0000\n",
      "3          2     1    1    Warehouse_3          33       55           34.3118\n",
      "4          2     1    1    Warehouse_1           0       81            0.0000\n",
      "5          2     1    1    Warehouse_2           0      100            0.0000\n",
      "self.predict_orders: \n",
      "  Product_id month week Warehouse_Name Order_Units distance  Additional_Costs\n",
      "0          1     1    1    Warehouse_3          31       55           33.1460\n",
      "1          1     1    1    Warehouse_1           5       81           24.3643\n",
      "2          1     1    1    Warehouse_2           0      100            0.0000\n",
      "3          2     1    1    Warehouse_3          33       55           34.3118\n",
      "4          2     1    1    Warehouse_1           0       81            0.0000\n",
      "5          2     1    1    Warehouse_2           0      100            0.0000\n",
      "6          3     1    1    Warehouse_3          32       55           33.7289\n",
      "7          3     1    1    Warehouse_1           0       81            0.0000\n",
      "8          3     1    1    Warehouse_2           0      100            0.0000\n",
      "self.predict_orders: \n",
      "   Product_id month week Warehouse_Name Order_Units distance  Additional_Costs\n",
      "0           1     1    1    Warehouse_3          31       55           33.1460\n",
      "1           1     1    1    Warehouse_1           5       81           24.3643\n",
      "2           1     1    1    Warehouse_2           0      100            0.0000\n",
      "3           2     1    1    Warehouse_3          33       55           34.3118\n",
      "4           2     1    1    Warehouse_1           0       81            0.0000\n",
      "5           2     1    1    Warehouse_2           0      100            0.0000\n",
      "6           3     1    1    Warehouse_3          32       55           33.7289\n",
      "7           3     1    1    Warehouse_1           0       81            0.0000\n",
      "8           3     1    1    Warehouse_2           0      100            0.0000\n",
      "9           4     1    1    Warehouse_3          24       55           29.0655\n",
      "10          4     1    1    Warehouse_1           0       81            0.0000\n",
      "11          4     1    1    Warehouse_2           0      100            0.0000\n",
      "self.predict_orders: \n",
      "   Product_id month week Warehouse_Name Order_Units distance  Additional_Costs\n",
      "0           1     1    1    Warehouse_3          31       55           33.1460\n",
      "1           1     1    1    Warehouse_1           5       81           24.3643\n",
      "2           1     1    1    Warehouse_2           0      100            0.0000\n",
      "3           2     1    1    Warehouse_3          33       55           34.3118\n",
      "4           2     1    1    Warehouse_1           0       81            0.0000\n",
      "5           2     1    1    Warehouse_2           0      100            0.0000\n",
      "6           3     1    1    Warehouse_3          32       55           33.7289\n",
      "7           3     1    1    Warehouse_1           0       81            0.0000\n",
      "8           3     1    1    Warehouse_2           0      100            0.0000\n",
      "9           4     1    1    Warehouse_3          24       55           29.0655\n",
      "10          4     1    1    Warehouse_1           0       81            0.0000\n",
      "11          4     1    1    Warehouse_2           0      100            0.0000\n",
      "12          5     1    1    Warehouse_3          31       55           33.1460\n",
      "13          5     1    1    Warehouse_1           0       81            0.0000\n",
      "14          5     1    1    Warehouse_2           0      100            0.0000\n"
     ]
    }
   ],
   "source": [
    "Retailer_9 = Retailer_9.Predict_Order_Levels(month = 1, week = 1)\n",
    "#Retailer_9.predict_orders"
   ]
  },
  {
   "cell_type": "code",
   "execution_count": 67,
   "metadata": {},
   "outputs": [
    {
     "name": "stdout",
     "output_type": "stream",
     "text": [
      "Central system successfully initialized.\n",
      "Region added successfully.\n",
      "Region added successfully.\n",
      "Region added successfully.\n"
     ]
    }
   ],
   "source": [
    "Central = Central()\n",
    "Central = Central.Add_Region(Region_1)\n",
    "Central = Central.Add_Region(Region_2)\n",
    "Central = Central.Add_Region(Region_3)"
   ]
  },
  {
   "cell_type": "code",
   "execution_count": 68,
   "metadata": {
    "scrolled": true
   },
   "outputs": [],
   "source": [
    "def Implement_For_All_Products(Central, Region_1, Region_2, Region_3):\n",
    "\n",
    "    for i in range(1, 7):\n",
    "    \n",
    "        print('i: ',format(i))\n",
    "    \n",
    "        Region_1 = Region_1.Evaluate_I(product_id = i)\n",
    "\n",
    "        Region_2 = Region_2.Evaluate_I(product_id = i)\n",
    "\n",
    "        Region_3 = Region_3.Evaluate_I(product_id = i)\n",
    "\n",
    "        Central = Central.Analyze_I()\n",
    "\n",
    "        Region_1 = Region_1.Evaluate_II(product_id = i)\n",
    "        #print('Region_1.pipeline_i: ')\n",
    "        #print(Region_1.pipeline_i)\n",
    "\n",
    "        Region_2 = Region_2.Evaluate_II(product_id = i)\n",
    "        #print('Region_2.pipeline_i: ')\n",
    "        #print(Region_2.pipeline_i)\n",
    "\n",
    "        Region_3 = Region_3.Evaluate_II(product_id = i)\n",
    "        #print('Region_3.pipeline_i: ')\n",
    "        #print(Region_3.pipeline_i)\n",
    "\n",
    "        Region_1 = Region_1.Execute_Pipeline_I(product_id = i)\n",
    "\n",
    "        Region_2 = Region_2.Execute_Pipeline_I(product_id = i)\n",
    "\n",
    "        Region_3 = Region_3.Execute_Pipeline_I(product_id = i)\n",
    "\n",
    "        Central = Central.Analyze_II(product_id = i)\n",
    "\n",
    "        Central = Central.Execute_Pipeline_II(product_id = i)\n"
   ]
  },
  {
   "cell_type": "code",
   "execution_count": 69,
   "metadata": {
    "scrolled": false
   },
   "outputs": [
    {
     "name": "stdout",
     "output_type": "stream",
     "text": [
      "i:  1\n",
      "self.accept_orders: \n",
      "  Product_id    Retailer month week Warehouse_Name Order_Units distance  \\\n",
      "0          1  Retailer_2     1    1    Warehouse_3           0       16   \n",
      "1          1  Retailer_1     1    1    Warehouse_3           0       53   \n",
      "2          1  Retailer_7     1    1    Warehouse_3           0       63   \n",
      "3          1  Retailer_2     1    1    Warehouse_1          29       10   \n",
      "4          1  Retailer_1     1    1    Warehouse_1          32       27   \n",
      "5          1  Retailer_7     1    1    Warehouse_1          31       44   \n",
      "6          1  Retailer_2     1    1    Warehouse_2           0       29   \n",
      "7          1  Retailer_1     1    1    Warehouse_2           0       46   \n",
      "8          1  Retailer_7     1    1    Warehouse_2           0       50   \n",
      "\n",
      "   Additional_Costs  \n",
      "0            0.0000  \n",
      "1            0.0000  \n",
      "2            0.0000  \n",
      "3           20.5932  \n",
      "4           25.5953  \n",
      "5           28.5083  \n",
      "6            0.0000  \n",
      "7            0.0000  \n",
      "8            0.0000  \n",
      "self.accept_orders: \n",
      "  Product_id    Retailer month week Warehouse_Name Order_Units distance  \\\n",
      "0          1  Retailer_2     1    1    Warehouse_3           0       16   \n",
      "1          1  Retailer_1     1    1    Warehouse_3           0       53   \n",
      "2          1  Retailer_7     1    1    Warehouse_3           0       63   \n",
      "3          1  Retailer_2     1    1    Warehouse_1          29       10   \n",
      "4          1  Retailer_1     1    1    Warehouse_1          32       27   \n",
      "5          1  Retailer_7     1    1    Warehouse_1          31       44   \n",
      "6          1  Retailer_2     1    1    Warehouse_2           0       29   \n",
      "7          1  Retailer_1     1    1    Warehouse_2           0       46   \n",
      "8          1  Retailer_7     1    1    Warehouse_2           0       50   \n",
      "\n",
      "   Additional_Costs  \n",
      "0            0.0000  \n",
      "1            0.0000  \n",
      "2            0.0000  \n",
      "3           20.5932  \n",
      "4           25.5953  \n",
      "5           28.5083  \n",
      "6            0.0000  \n",
      "7            0.0000  \n",
      "8            0.0000  \n",
      "self.accept_orders: \n",
      "   Product_id    Retailer month week Warehouse_Name Order_Units distance  \\\n",
      "0           1  Retailer_4     1    1    Warehouse_3           0       56   \n",
      "1           1  Retailer_6     1    1    Warehouse_3           5       60   \n",
      "2           1  Retailer_3     1    1    Warehouse_3           0       65   \n",
      "3           1  Retailer_5     1    1    Warehouse_3           0       77   \n",
      "4           1  Retailer_4     1    1    Warehouse_1           5       30   \n",
      "5           1  Retailer_3     1    1    Warehouse_1          23       39   \n",
      "6           1  Retailer_5     1    1    Warehouse_1           0       52   \n",
      "7           1  Retailer_6     1    1    Warehouse_1           0       69   \n",
      "8           1  Retailer_4     1    1    Warehouse_2          33       11   \n",
      "9           1  Retailer_3     1    1    Warehouse_2          12       20   \n",
      "10          1  Retailer_5     1    1    Warehouse_2          29       33   \n",
      "11          1  Retailer_6     1    1    Warehouse_2          32       50   \n",
      "\n",
      "    Additional_Costs  \n",
      "0             0.0000  \n",
      "1            19.3753  \n",
      "2             0.0000  \n",
      "3             0.0000  \n",
      "4            11.1567  \n",
      "5            24.0317  \n",
      "6             0.0000  \n",
      "7             0.0000  \n",
      "8            23.4071  \n",
      "9            12.9038  \n",
      "10           26.9229  \n",
      "11           32.8352  \n",
      "self.accept_orders: \n",
      "   Product_id    Retailer month week Warehouse_Name Order_Units distance  \\\n",
      "0           1  Retailer_4     1    1    Warehouse_3           0       56   \n",
      "1           1  Retailer_6     1    1    Warehouse_3           5       60   \n",
      "2           1  Retailer_3     1    1    Warehouse_3           0       65   \n",
      "3           1  Retailer_5     1    1    Warehouse_3           0       77   \n",
      "4           1  Retailer_4     1    1    Warehouse_1           5       30   \n",
      "5           1  Retailer_3     1    1    Warehouse_1          23       39   \n",
      "6           1  Retailer_5     1    1    Warehouse_1           0       52   \n",
      "7           1  Retailer_6     1    1    Warehouse_1           0       69   \n",
      "8           1  Retailer_4     1    1    Warehouse_2          33       11   \n",
      "9           1  Retailer_3     1    1    Warehouse_2          12       20   \n",
      "10          1  Retailer_5     1    1    Warehouse_2          29       33   \n",
      "11          1  Retailer_6     1    1    Warehouse_2          32       50   \n",
      "\n",
      "    Additional_Costs  \n",
      "0             0.0000  \n",
      "1            19.3753  \n",
      "2             0.0000  \n",
      "3             0.0000  \n",
      "4            11.1567  \n",
      "5            24.0317  \n",
      "6             0.0000  \n",
      "7             0.0000  \n",
      "8            23.4071  \n",
      "9            12.9038  \n",
      "10           26.9229  \n",
      "11           32.8352  \n",
      "self.accept_orders: \n",
      "   Product_id    Retailer month week Warehouse_Name Order_Units distance  \\\n",
      "0           1  Retailer_4     1    1    Warehouse_3           0       56   \n",
      "1           1  Retailer_6     1    1    Warehouse_3           5       60   \n",
      "2           1  Retailer_3     1    1    Warehouse_3           0       65   \n",
      "3           1  Retailer_5     1    1    Warehouse_3           0       77   \n",
      "4           1  Retailer_4     1    1    Warehouse_1           5       30   \n",
      "5           1  Retailer_3     1    1    Warehouse_1          23       39   \n",
      "6           1  Retailer_5     1    1    Warehouse_1           0       52   \n",
      "7           1  Retailer_6     1    1    Warehouse_1           0       69   \n",
      "8           1  Retailer_4     1    1    Warehouse_2          33       11   \n",
      "9           1  Retailer_3     1    1    Warehouse_2          12       20   \n",
      "10          1  Retailer_5     1    1    Warehouse_2          29       33   \n",
      "11          1  Retailer_6     1    1    Warehouse_2          32       50   \n",
      "\n",
      "    Additional_Costs  \n",
      "0             0.0000  \n",
      "1            19.3753  \n",
      "2             0.0000  \n",
      "3             0.0000  \n",
      "4            11.1567  \n",
      "5            24.0317  \n",
      "6             0.0000  \n",
      "7             0.0000  \n",
      "8            23.4071  \n",
      "9            12.9038  \n",
      "10           26.9229  \n",
      "11           32.8352  \n",
      "self.accept_orders: \n",
      "   Product_id    Retailer month week Warehouse_Name Order_Units distance  \\\n",
      "0           1  Retailer_4     1    1    Warehouse_3           0       56   \n",
      "1           1  Retailer_6     1    1    Warehouse_3           5       60   \n",
      "2           1  Retailer_3     1    1    Warehouse_3           0       65   \n",
      "3           1  Retailer_5     1    1    Warehouse_3           0       77   \n",
      "4           1  Retailer_4     1    1    Warehouse_1           5       30   \n",
      "5           1  Retailer_3     1    1    Warehouse_1          23       39   \n",
      "6           1  Retailer_5     1    1    Warehouse_1           0       52   \n",
      "7           1  Retailer_6     1    1    Warehouse_1           0       69   \n",
      "8           1  Retailer_4     1    1    Warehouse_2          33       11   \n",
      "9           1  Retailer_3     1    1    Warehouse_2          12       20   \n",
      "10          1  Retailer_5     1    1    Warehouse_2          29       33   \n",
      "11          1  Retailer_6     1    1    Warehouse_2          32       50   \n",
      "\n",
      "    Additional_Costs  \n",
      "0             0.0000  \n",
      "1            19.3753  \n",
      "2             0.0000  \n",
      "3             0.0000  \n",
      "4            11.1567  \n",
      "5            24.0317  \n",
      "6             0.0000  \n",
      "7             0.0000  \n",
      "8            23.4071  \n",
      "9            12.9038  \n",
      "10           26.9229  \n",
      "11           32.8352  \n",
      "self.accept_orders: \n",
      "  Product_id    Retailer month week Warehouse_Name Order_Units distance  \\\n",
      "0          1  Retailer_8     1    1    Warehouse_3          28       10   \n",
      "1          1  Retailer_9     1    1    Warehouse_3          31       55   \n",
      "2          1  Retailer_8     1    1    Warehouse_1           0       36   \n",
      "3          1  Retailer_9     1    1    Warehouse_1           5       81   \n",
      "4          1  Retailer_8     1    1    Warehouse_2           0       55   \n",
      "5          1  Retailer_9     1    1    Warehouse_2           0      100   \n",
      "\n",
      "   Additional_Costs  \n",
      "0           19.1479  \n",
      "1           33.1460  \n",
      "2            0.0000  \n",
      "3           24.3643  \n",
      "4            0.0000  \n",
      "5            0.0000  \n",
      "self.accept_orders: \n",
      "  Product_id    Retailer month week Warehouse_Name Order_Units distance  \\\n",
      "0          1  Retailer_8     1    1    Warehouse_3          28       10   \n",
      "1          1  Retailer_9     1    1    Warehouse_3          31       55   \n",
      "2          1  Retailer_8     1    1    Warehouse_1           0       36   \n",
      "3          1  Retailer_9     1    1    Warehouse_1           5       81   \n",
      "4          1  Retailer_8     1    1    Warehouse_2           0       55   \n",
      "5          1  Retailer_9     1    1    Warehouse_2           0      100   \n",
      "\n",
      "   Additional_Costs  \n",
      "0           19.1479  \n",
      "1           33.1460  \n",
      "2            0.0000  \n",
      "3           24.3643  \n",
      "4            0.0000  \n",
      "5            0.0000  \n"
     ]
    },
    {
     "name": "stdout",
     "output_type": "stream",
     "text": [
      "i:  2\n",
      "self.accept_orders: \n",
      "  Product_id    Retailer month week Warehouse_Name Order_Units distance  \\\n",
      "0          2  Retailer_2     1    1    Warehouse_3           0       16   \n",
      "1          2  Retailer_1     1    1    Warehouse_3           0       53   \n",
      "2          2  Retailer_7     1    1    Warehouse_3           0       63   \n",
      "3          2  Retailer_2     1    1    Warehouse_1          31       10   \n",
      "4          2  Retailer_1     1    1    Warehouse_1          31       27   \n",
      "5          2  Retailer_7     1    1    Warehouse_1          31       44   \n",
      "6          2  Retailer_2     1    1    Warehouse_2           0       29   \n",
      "7          2  Retailer_1     1    1    Warehouse_2           0       46   \n",
      "8          2  Retailer_7     1    1    Warehouse_2           5       50   \n",
      "\n",
      "   Additional_Costs  \n",
      "0            0.0000  \n",
      "1            0.0000  \n",
      "2            0.0000  \n",
      "3           21.8121  \n",
      "4           25.0253  \n",
      "5           28.5083  \n",
      "6            0.0000  \n",
      "7            0.0000  \n",
      "8           16.3635  \n",
      "self.accept_orders: \n",
      "  Product_id    Retailer month week Warehouse_Name Order_Units distance  \\\n",
      "0          2  Retailer_2     1    1    Warehouse_3           0       16   \n",
      "1          2  Retailer_1     1    1    Warehouse_3           0       53   \n",
      "2          2  Retailer_7     1    1    Warehouse_3           0       63   \n",
      "3          2  Retailer_2     1    1    Warehouse_1          31       10   \n",
      "4          2  Retailer_1     1    1    Warehouse_1          31       27   \n",
      "5          2  Retailer_7     1    1    Warehouse_1          31       44   \n",
      "6          2  Retailer_2     1    1    Warehouse_2           0       29   \n",
      "7          2  Retailer_1     1    1    Warehouse_2           0       46   \n",
      "8          2  Retailer_7     1    1    Warehouse_2           5       50   \n",
      "\n",
      "   Additional_Costs  \n",
      "0            0.0000  \n",
      "1            0.0000  \n",
      "2            0.0000  \n",
      "3           21.8121  \n",
      "4           25.0253  \n",
      "5           28.5083  \n",
      "6            0.0000  \n",
      "7            0.0000  \n",
      "8           16.3635  \n",
      "self.accept_orders: \n",
      "   Product_id    Retailer month week Warehouse_Name Order_Units distance  \\\n",
      "0           2  Retailer_4     1    1    Warehouse_3           0       56   \n",
      "1           2  Retailer_6     1    1    Warehouse_3           5       60   \n",
      "2           2  Retailer_3     1    1    Warehouse_3           0       65   \n",
      "3           2  Retailer_5     1    1    Warehouse_3           0       77   \n",
      "4           2  Retailer_4     1    1    Warehouse_1           0       30   \n",
      "5           2  Retailer_3     1    1    Warehouse_1           0       39   \n",
      "6           2  Retailer_5     1    1    Warehouse_1           0       52   \n",
      "7           2  Retailer_6     1    1    Warehouse_1           0       69   \n",
      "8           2  Retailer_4     1    1    Warehouse_2          31       11   \n",
      "9           2  Retailer_3     1    1    Warehouse_2          29       20   \n",
      "10          2  Retailer_5     1    1    Warehouse_2          30       33   \n",
      "11          2  Retailer_6     1    1    Warehouse_2          30       50   \n",
      "\n",
      "    Additional_Costs  \n",
      "0             0.0000  \n",
      "1            19.3753  \n",
      "2             0.0000  \n",
      "3             0.0000  \n",
      "4             0.0000  \n",
      "5             0.0000  \n",
      "6             0.0000  \n",
      "7             0.0000  \n",
      "8            22.1999  \n",
      "9            22.9146  \n",
      "10           27.5330  \n",
      "11           31.6373  \n",
      "self.accept_orders: \n",
      "   Product_id    Retailer month week Warehouse_Name Order_Units distance  \\\n",
      "0           2  Retailer_4     1    1    Warehouse_3           0       56   \n",
      "1           2  Retailer_6     1    1    Warehouse_3           5       60   \n",
      "2           2  Retailer_3     1    1    Warehouse_3           0       65   \n",
      "3           2  Retailer_5     1    1    Warehouse_3           0       77   \n",
      "4           2  Retailer_4     1    1    Warehouse_1           0       30   \n",
      "5           2  Retailer_3     1    1    Warehouse_1           0       39   \n",
      "6           2  Retailer_5     1    1    Warehouse_1           0       52   \n",
      "7           2  Retailer_6     1    1    Warehouse_1           0       69   \n",
      "8           2  Retailer_4     1    1    Warehouse_2          31       11   \n",
      "9           2  Retailer_3     1    1    Warehouse_2          29       20   \n",
      "10          2  Retailer_5     1    1    Warehouse_2          30       33   \n",
      "11          2  Retailer_6     1    1    Warehouse_2          30       50   \n",
      "\n",
      "    Additional_Costs  \n",
      "0             0.0000  \n",
      "1            19.3753  \n",
      "2             0.0000  \n",
      "3             0.0000  \n",
      "4             0.0000  \n",
      "5             0.0000  \n",
      "6             0.0000  \n",
      "7             0.0000  \n",
      "8            22.1999  \n",
      "9            22.9146  \n",
      "10           27.5330  \n",
      "11           31.6373  \n",
      "self.accept_orders: \n",
      "   Product_id    Retailer month week Warehouse_Name Order_Units distance  \\\n",
      "0           2  Retailer_4     1    1    Warehouse_3           0       56   \n",
      "1           2  Retailer_6     1    1    Warehouse_3           5       60   \n",
      "2           2  Retailer_3     1    1    Warehouse_3           0       65   \n",
      "3           2  Retailer_5     1    1    Warehouse_3           0       77   \n",
      "4           2  Retailer_4     1    1    Warehouse_1           0       30   \n",
      "5           2  Retailer_3     1    1    Warehouse_1           0       39   \n",
      "6           2  Retailer_5     1    1    Warehouse_1           0       52   \n",
      "7           2  Retailer_6     1    1    Warehouse_1           0       69   \n",
      "8           2  Retailer_4     1    1    Warehouse_2          31       11   \n",
      "9           2  Retailer_3     1    1    Warehouse_2          29       20   \n",
      "10          2  Retailer_5     1    1    Warehouse_2          30       33   \n",
      "11          2  Retailer_6     1    1    Warehouse_2          30       50   \n",
      "\n",
      "    Additional_Costs  \n",
      "0             0.0000  \n",
      "1            19.3753  \n",
      "2             0.0000  \n",
      "3             0.0000  \n",
      "4             0.0000  \n",
      "5             0.0000  \n",
      "6             0.0000  \n",
      "7             0.0000  \n",
      "8            22.1999  \n",
      "9            22.9146  \n",
      "10           27.5330  \n",
      "11           31.6373  \n",
      "self.accept_orders: \n",
      "   Product_id    Retailer month week Warehouse_Name Order_Units distance  \\\n",
      "0           2  Retailer_4     1    1    Warehouse_3           0       56   \n",
      "1           2  Retailer_6     1    1    Warehouse_3           5       60   \n",
      "2           2  Retailer_3     1    1    Warehouse_3           0       65   \n",
      "3           2  Retailer_5     1    1    Warehouse_3           0       77   \n",
      "4           2  Retailer_4     1    1    Warehouse_1           0       30   \n",
      "5           2  Retailer_3     1    1    Warehouse_1           0       39   \n",
      "6           2  Retailer_5     1    1    Warehouse_1           0       52   \n",
      "7           2  Retailer_6     1    1    Warehouse_1           0       69   \n",
      "8           2  Retailer_4     1    1    Warehouse_2          31       11   \n",
      "9           2  Retailer_3     1    1    Warehouse_2          29       20   \n",
      "10          2  Retailer_5     1    1    Warehouse_2          30       33   \n",
      "11          2  Retailer_6     1    1    Warehouse_2          30       50   \n",
      "\n",
      "    Additional_Costs  \n",
      "0             0.0000  \n",
      "1            19.3753  \n",
      "2             0.0000  \n",
      "3             0.0000  \n",
      "4             0.0000  \n",
      "5             0.0000  \n",
      "6             0.0000  \n",
      "7             0.0000  \n",
      "8            22.1999  \n",
      "9            22.9146  \n",
      "10           27.5330  \n",
      "11           31.6373  \n",
      "self.accept_orders: \n",
      "  Product_id    Retailer month week Warehouse_Name Order_Units distance  \\\n",
      "0          2  Retailer_8     1    1    Warehouse_3          33       10   \n",
      "1          2  Retailer_9     1    1    Warehouse_3          33       55   \n",
      "2          2  Retailer_8     1    1    Warehouse_1           0       36   \n",
      "3          2  Retailer_9     1    1    Warehouse_1           0       81   \n",
      "4          2  Retailer_8     1    1    Warehouse_2           0       55   \n",
      "5          2  Retailer_9     1    1    Warehouse_2           0      100   \n",
      "\n",
      "   Additional_Costs  \n",
      "0           21.9724  \n",
      "1           34.3118  \n",
      "2            0.0000  \n",
      "3            0.0000  \n",
      "4            0.0000  \n",
      "5            0.0000  \n",
      "self.accept_orders: \n",
      "  Product_id    Retailer month week Warehouse_Name Order_Units distance  \\\n",
      "0          2  Retailer_8     1    1    Warehouse_3          33       10   \n",
      "1          2  Retailer_9     1    1    Warehouse_3          33       55   \n",
      "2          2  Retailer_8     1    1    Warehouse_1           0       36   \n",
      "3          2  Retailer_9     1    1    Warehouse_1           0       81   \n",
      "4          2  Retailer_8     1    1    Warehouse_2           0       55   \n",
      "5          2  Retailer_9     1    1    Warehouse_2           0      100   \n",
      "\n",
      "   Additional_Costs  \n",
      "0           21.9724  \n",
      "1           34.3118  \n",
      "2            0.0000  \n",
      "3            0.0000  \n",
      "4            0.0000  \n",
      "5            0.0000  \n",
      "i:  3\n",
      "self.accept_orders: \n",
      "  Product_id    Retailer month week Warehouse_Name Order_Units distance  \\\n",
      "0          3  Retailer_2     1    1    Warehouse_3           5       16   \n",
      "1          3  Retailer_1     1    1    Warehouse_3           0       53   \n",
      "2          3  Retailer_7     1    1    Warehouse_3           0       63   \n",
      "3          3  Retailer_2     1    1    Warehouse_1          29       10   \n",
      "4          3  Retailer_1     1    1    Warehouse_1          30       27   \n",
      "5          3  Retailer_7     1    1    Warehouse_1          28       44   \n",
      "6          3  Retailer_2     1    1    Warehouse_2           0       29   \n",
      "7          3  Retailer_1     1    1    Warehouse_2           0       46   \n",
      "8          3  Retailer_7     1    1    Warehouse_2           0       50   \n",
      "\n",
      "   Additional_Costs  \n",
      "0            7.9436  \n",
      "1            0.0000  \n",
      "2            0.0000  \n",
      "3           20.5932  \n",
      "4           24.4554  \n",
      "5           26.8907  \n",
      "6            0.0000  \n",
      "7            0.0000  \n",
      "8            0.0000  \n",
      "self.accept_orders: \n",
      "  Product_id    Retailer month week Warehouse_Name Order_Units distance  \\\n",
      "0          3  Retailer_2     1    1    Warehouse_3           5       16   \n",
      "1          3  Retailer_1     1    1    Warehouse_3           0       53   \n",
      "2          3  Retailer_7     1    1    Warehouse_3           0       63   \n",
      "3          3  Retailer_2     1    1    Warehouse_1          29       10   \n",
      "4          3  Retailer_1     1    1    Warehouse_1          30       27   \n",
      "5          3  Retailer_7     1    1    Warehouse_1          28       44   \n",
      "6          3  Retailer_2     1    1    Warehouse_2           0       29   \n",
      "7          3  Retailer_1     1    1    Warehouse_2           0       46   \n",
      "8          3  Retailer_7     1    1    Warehouse_2           0       50   \n",
      "\n",
      "   Additional_Costs  \n",
      "0            7.9436  \n",
      "1            0.0000  \n",
      "2            0.0000  \n",
      "3           20.5932  \n",
      "4           24.4554  \n",
      "5           26.8907  \n",
      "6            0.0000  \n",
      "7            0.0000  \n",
      "8            0.0000  \n",
      "self.accept_orders: \n",
      "   Product_id    Retailer month week Warehouse_Name Order_Units distance  \\\n",
      "0           3  Retailer_4     1    1    Warehouse_3           0       56   \n",
      "1           3  Retailer_6     1    1    Warehouse_3           0       60   \n",
      "2           3  Retailer_3     1    1    Warehouse_3           0       65   \n",
      "3           3  Retailer_5     1    1    Warehouse_3           0       77   \n",
      "4           3  Retailer_4     1    1    Warehouse_1           0       30   \n",
      "5           3  Retailer_3     1    1    Warehouse_1           0       39   \n",
      "6           3  Retailer_5     1    1    Warehouse_1           0       52   \n",
      "7           3  Retailer_6     1    1    Warehouse_1           0       69   \n",
      "8           3  Retailer_4     1    1    Warehouse_2          25       11   \n",
      "9           3  Retailer_3     1    1    Warehouse_2          30       20   \n",
      "10          3  Retailer_5     1    1    Warehouse_2          29       33   \n",
      "11          3  Retailer_6     1    1    Warehouse_2          30       50   \n",
      "\n",
      "    Additional_Costs  \n",
      "0             0.0000  \n",
      "1             0.0000  \n",
      "2             0.0000  \n",
      "3             0.0000  \n",
      "4             0.0000  \n",
      "5             0.0000  \n",
      "6             0.0000  \n",
      "7             0.0000  \n",
      "8            18.5783  \n",
      "9            23.5035  \n",
      "10           26.9229  \n",
      "11           31.6373  \n",
      "self.accept_orders: \n",
      "   Product_id    Retailer month week Warehouse_Name Order_Units distance  \\\n",
      "0           3  Retailer_4     1    1    Warehouse_3           0       56   \n",
      "1           3  Retailer_6     1    1    Warehouse_3           0       60   \n",
      "2           3  Retailer_3     1    1    Warehouse_3           0       65   \n",
      "3           3  Retailer_5     1    1    Warehouse_3           0       77   \n",
      "4           3  Retailer_4     1    1    Warehouse_1           0       30   \n",
      "5           3  Retailer_3     1    1    Warehouse_1           0       39   \n",
      "6           3  Retailer_5     1    1    Warehouse_1           0       52   \n",
      "7           3  Retailer_6     1    1    Warehouse_1           0       69   \n",
      "8           3  Retailer_4     1    1    Warehouse_2          25       11   \n",
      "9           3  Retailer_3     1    1    Warehouse_2          30       20   \n",
      "10          3  Retailer_5     1    1    Warehouse_2          29       33   \n",
      "11          3  Retailer_6     1    1    Warehouse_2          30       50   \n",
      "\n",
      "    Additional_Costs  \n",
      "0             0.0000  \n",
      "1             0.0000  \n",
      "2             0.0000  \n",
      "3             0.0000  \n",
      "4             0.0000  \n",
      "5             0.0000  \n",
      "6             0.0000  \n",
      "7             0.0000  \n",
      "8            18.5783  \n",
      "9            23.5035  \n",
      "10           26.9229  \n",
      "11           31.6373  \n",
      "self.accept_orders: \n",
      "   Product_id    Retailer month week Warehouse_Name Order_Units distance  \\\n",
      "0           3  Retailer_4     1    1    Warehouse_3           0       56   \n",
      "1           3  Retailer_6     1    1    Warehouse_3           0       60   \n",
      "2           3  Retailer_3     1    1    Warehouse_3           0       65   \n",
      "3           3  Retailer_5     1    1    Warehouse_3           0       77   \n",
      "4           3  Retailer_4     1    1    Warehouse_1           0       30   \n",
      "5           3  Retailer_3     1    1    Warehouse_1           0       39   \n",
      "6           3  Retailer_5     1    1    Warehouse_1           0       52   \n",
      "7           3  Retailer_6     1    1    Warehouse_1           0       69   \n",
      "8           3  Retailer_4     1    1    Warehouse_2          25       11   \n",
      "9           3  Retailer_3     1    1    Warehouse_2          30       20   \n",
      "10          3  Retailer_5     1    1    Warehouse_2          29       33   \n",
      "11          3  Retailer_6     1    1    Warehouse_2          30       50   \n",
      "\n",
      "    Additional_Costs  \n",
      "0             0.0000  \n",
      "1             0.0000  \n",
      "2             0.0000  \n",
      "3             0.0000  \n",
      "4             0.0000  \n",
      "5             0.0000  \n",
      "6             0.0000  \n",
      "7             0.0000  \n",
      "8            18.5783  \n",
      "9            23.5035  \n",
      "10           26.9229  \n",
      "11           31.6373  \n",
      "self.accept_orders: \n",
      "   Product_id    Retailer month week Warehouse_Name Order_Units distance  \\\n",
      "0           3  Retailer_4     1    1    Warehouse_3           0       56   \n",
      "1           3  Retailer_6     1    1    Warehouse_3           0       60   \n",
      "2           3  Retailer_3     1    1    Warehouse_3           0       65   \n",
      "3           3  Retailer_5     1    1    Warehouse_3           0       77   \n",
      "4           3  Retailer_4     1    1    Warehouse_1           0       30   \n",
      "5           3  Retailer_3     1    1    Warehouse_1           0       39   \n",
      "6           3  Retailer_5     1    1    Warehouse_1           0       52   \n",
      "7           3  Retailer_6     1    1    Warehouse_1           0       69   \n",
      "8           3  Retailer_4     1    1    Warehouse_2          25       11   \n",
      "9           3  Retailer_3     1    1    Warehouse_2          30       20   \n",
      "10          3  Retailer_5     1    1    Warehouse_2          29       33   \n",
      "11          3  Retailer_6     1    1    Warehouse_2          30       50   \n",
      "\n",
      "    Additional_Costs  \n",
      "0             0.0000  \n",
      "1             0.0000  \n",
      "2             0.0000  \n",
      "3             0.0000  \n",
      "4             0.0000  \n",
      "5             0.0000  \n",
      "6             0.0000  \n",
      "7             0.0000  \n",
      "8            18.5783  \n",
      "9            23.5035  \n",
      "10           26.9229  \n",
      "11           31.6373  \n",
      "self.accept_orders: \n"
     ]
    },
    {
     "name": "stdout",
     "output_type": "stream",
     "text": [
      "  Product_id    Retailer month week Warehouse_Name Order_Units distance  \\\n",
      "0          3  Retailer_8     1    1    Warehouse_3          28       10   \n",
      "1          3  Retailer_9     1    1    Warehouse_3          32       55   \n",
      "2          3  Retailer_8     1    1    Warehouse_1           0       36   \n",
      "3          3  Retailer_9     1    1    Warehouse_1           0       81   \n",
      "4          3  Retailer_8     1    1    Warehouse_2           0       55   \n",
      "5          3  Retailer_9     1    1    Warehouse_2           0      100   \n",
      "\n",
      "   Additional_Costs  \n",
      "0           19.1479  \n",
      "1           33.7289  \n",
      "2            0.0000  \n",
      "3            0.0000  \n",
      "4            0.0000  \n",
      "5            0.0000  \n",
      "self.accept_orders: \n",
      "  Product_id    Retailer month week Warehouse_Name Order_Units distance  \\\n",
      "0          3  Retailer_8     1    1    Warehouse_3          28       10   \n",
      "1          3  Retailer_9     1    1    Warehouse_3          32       55   \n",
      "2          3  Retailer_8     1    1    Warehouse_1           0       36   \n",
      "3          3  Retailer_9     1    1    Warehouse_1           0       81   \n",
      "4          3  Retailer_8     1    1    Warehouse_2           0       55   \n",
      "5          3  Retailer_9     1    1    Warehouse_2           0      100   \n",
      "\n",
      "   Additional_Costs  \n",
      "0           19.1479  \n",
      "1           33.7289  \n",
      "2            0.0000  \n",
      "3            0.0000  \n",
      "4            0.0000  \n",
      "5            0.0000  \n",
      "i:  4\n",
      "self.accept_orders: \n",
      "  Product_id    Retailer month week Warehouse_Name Order_Units distance  \\\n",
      "0          4  Retailer_2     1    1    Warehouse_3           0       16   \n",
      "1          4  Retailer_1     1    1    Warehouse_3           0       53   \n",
      "2          4  Retailer_7     1    1    Warehouse_3           0       63   \n",
      "3          4  Retailer_2     1    1    Warehouse_2           0       29   \n",
      "4          4  Retailer_1     1    1    Warehouse_2           0       46   \n",
      "5          4  Retailer_7     1    1    Warehouse_2           0       50   \n",
      "6          4  Retailer_2     1    1    Warehouse_1          32       10   \n",
      "7          4  Retailer_1     1    1    Warehouse_1          31       27   \n",
      "8          4  Retailer_7     1    1    Warehouse_1          30       44   \n",
      "\n",
      "   Additional_Costs  \n",
      "0            0.0000  \n",
      "1            0.0000  \n",
      "2            0.0000  \n",
      "3            0.0000  \n",
      "4            0.0000  \n",
      "5            0.0000  \n",
      "6           22.4216  \n",
      "7           25.0253  \n",
      "8           27.9691  \n",
      "self.accept_orders: \n",
      "  Product_id    Retailer month week Warehouse_Name Order_Units distance  \\\n",
      "0          4  Retailer_2     1    1    Warehouse_3           0       16   \n",
      "1          4  Retailer_1     1    1    Warehouse_3           0       53   \n",
      "2          4  Retailer_7     1    1    Warehouse_3           0       63   \n",
      "3          4  Retailer_2     1    1    Warehouse_2           0       29   \n",
      "4          4  Retailer_1     1    1    Warehouse_2           0       46   \n",
      "5          4  Retailer_7     1    1    Warehouse_2           0       50   \n",
      "6          4  Retailer_2     1    1    Warehouse_1          32       10   \n",
      "7          4  Retailer_1     1    1    Warehouse_1          31       27   \n",
      "8          4  Retailer_7     1    1    Warehouse_1          30       44   \n",
      "\n",
      "   Additional_Costs  \n",
      "0            0.0000  \n",
      "1            0.0000  \n",
      "2            0.0000  \n",
      "3            0.0000  \n",
      "4            0.0000  \n",
      "5            0.0000  \n",
      "6           22.4216  \n",
      "7           25.0253  \n",
      "8           27.9691  \n",
      "self.accept_orders: \n",
      "   Product_id    Retailer month week Warehouse_Name Order_Units distance  \\\n",
      "0           4  Retailer_4     1    1    Warehouse_3           0       56   \n",
      "1           4  Retailer_6     1    1    Warehouse_3           0       60   \n",
      "2           4  Retailer_3     1    1    Warehouse_3           0       65   \n",
      "3           4  Retailer_5     1    1    Warehouse_3           0       77   \n",
      "4           4  Retailer_4     1    1    Warehouse_2          29       11   \n",
      "5           4  Retailer_3     1    1    Warehouse_2          12       20   \n",
      "6           4  Retailer_5     1    1    Warehouse_2          28       33   \n",
      "7           4  Retailer_6     1    1    Warehouse_2          28       50   \n",
      "8           4  Retailer_4     1    1    Warehouse_1           5       30   \n",
      "9           4  Retailer_3     1    1    Warehouse_1          23       39   \n",
      "10          4  Retailer_5     1    1    Warehouse_1           0       52   \n",
      "11          4  Retailer_6     1    1    Warehouse_1           0       69   \n",
      "\n",
      "    Additional_Costs  \n",
      "0             0.0000  \n",
      "1             0.0000  \n",
      "2             0.0000  \n",
      "3             0.0000  \n",
      "4            20.9927  \n",
      "5            12.9038  \n",
      "6            26.3129  \n",
      "7            30.4393  \n",
      "8            11.1567  \n",
      "9            24.0317  \n",
      "10            0.0000  \n",
      "11            0.0000  \n",
      "self.accept_orders: \n",
      "   Product_id    Retailer month week Warehouse_Name Order_Units distance  \\\n",
      "0           4  Retailer_4     1    1    Warehouse_3           0       56   \n",
      "1           4  Retailer_6     1    1    Warehouse_3           0       60   \n",
      "2           4  Retailer_3     1    1    Warehouse_3           0       65   \n",
      "3           4  Retailer_5     1    1    Warehouse_3           0       77   \n",
      "4           4  Retailer_4     1    1    Warehouse_2          29       11   \n",
      "5           4  Retailer_3     1    1    Warehouse_2          12       20   \n",
      "6           4  Retailer_5     1    1    Warehouse_2          28       33   \n",
      "7           4  Retailer_6     1    1    Warehouse_2          28       50   \n",
      "8           4  Retailer_4     1    1    Warehouse_1           5       30   \n",
      "9           4  Retailer_3     1    1    Warehouse_1          23       39   \n",
      "10          4  Retailer_5     1    1    Warehouse_1           0       52   \n",
      "11          4  Retailer_6     1    1    Warehouse_1           0       69   \n",
      "\n",
      "    Additional_Costs  \n",
      "0             0.0000  \n",
      "1             0.0000  \n",
      "2             0.0000  \n",
      "3             0.0000  \n",
      "4            20.9927  \n",
      "5            12.9038  \n",
      "6            26.3129  \n",
      "7            30.4393  \n",
      "8            11.1567  \n",
      "9            24.0317  \n",
      "10            0.0000  \n",
      "11            0.0000  \n",
      "self.accept_orders: \n",
      "   Product_id    Retailer month week Warehouse_Name Order_Units distance  \\\n",
      "0           4  Retailer_4     1    1    Warehouse_3           0       56   \n",
      "1           4  Retailer_6     1    1    Warehouse_3           0       60   \n",
      "2           4  Retailer_3     1    1    Warehouse_3           0       65   \n",
      "3           4  Retailer_5     1    1    Warehouse_3           0       77   \n",
      "4           4  Retailer_4     1    1    Warehouse_2          29       11   \n",
      "5           4  Retailer_3     1    1    Warehouse_2          12       20   \n",
      "6           4  Retailer_5     1    1    Warehouse_2          28       33   \n",
      "7           4  Retailer_6     1    1    Warehouse_2          28       50   \n",
      "8           4  Retailer_4     1    1    Warehouse_1           5       30   \n",
      "9           4  Retailer_3     1    1    Warehouse_1          23       39   \n",
      "10          4  Retailer_5     1    1    Warehouse_1           0       52   \n",
      "11          4  Retailer_6     1    1    Warehouse_1           0       69   \n",
      "\n",
      "    Additional_Costs  \n",
      "0             0.0000  \n",
      "1             0.0000  \n",
      "2             0.0000  \n",
      "3             0.0000  \n",
      "4            20.9927  \n",
      "5            12.9038  \n",
      "6            26.3129  \n",
      "7            30.4393  \n",
      "8            11.1567  \n",
      "9            24.0317  \n",
      "10            0.0000  \n",
      "11            0.0000  \n",
      "self.accept_orders: \n",
      "   Product_id    Retailer month week Warehouse_Name Order_Units distance  \\\n",
      "0           4  Retailer_4     1    1    Warehouse_3           0       56   \n",
      "1           4  Retailer_6     1    1    Warehouse_3           0       60   \n",
      "2           4  Retailer_3     1    1    Warehouse_3           0       65   \n",
      "3           4  Retailer_5     1    1    Warehouse_3           0       77   \n",
      "4           4  Retailer_4     1    1    Warehouse_2          29       11   \n",
      "5           4  Retailer_3     1    1    Warehouse_2          12       20   \n",
      "6           4  Retailer_5     1    1    Warehouse_2          28       33   \n",
      "7           4  Retailer_6     1    1    Warehouse_2          28       50   \n",
      "8           4  Retailer_4     1    1    Warehouse_1           5       30   \n",
      "9           4  Retailer_3     1    1    Warehouse_1          23       39   \n",
      "10          4  Retailer_5     1    1    Warehouse_1           0       52   \n",
      "11          4  Retailer_6     1    1    Warehouse_1           0       69   \n",
      "\n",
      "    Additional_Costs  \n",
      "0             0.0000  \n",
      "1             0.0000  \n",
      "2             0.0000  \n",
      "3             0.0000  \n",
      "4            20.9927  \n",
      "5            12.9038  \n",
      "6            26.3129  \n",
      "7            30.4393  \n",
      "8            11.1567  \n",
      "9            24.0317  \n",
      "10            0.0000  \n",
      "11            0.0000  \n",
      "self.accept_orders: \n",
      "  Product_id    Retailer month week Warehouse_Name Order_Units distance  \\\n",
      "0          4  Retailer_8     1    1    Warehouse_3          29       10   \n",
      "1          4  Retailer_9     1    1    Warehouse_3          24       55   \n",
      "2          4  Retailer_8     1    1    Warehouse_2           0       55   \n",
      "3          4  Retailer_9     1    1    Warehouse_2           0      100   \n",
      "4          4  Retailer_8     1    1    Warehouse_1           0       36   \n",
      "5          4  Retailer_9     1    1    Warehouse_1           0       81   \n",
      "\n",
      "   Additional_Costs  \n",
      "0           19.7128  \n",
      "1           29.0655  \n",
      "2            0.0000  \n",
      "3            0.0000  \n",
      "4            0.0000  \n",
      "5            0.0000  \n",
      "self.accept_orders: \n",
      "  Product_id    Retailer month week Warehouse_Name Order_Units distance  \\\n",
      "0          4  Retailer_8     1    1    Warehouse_3          29       10   \n",
      "1          4  Retailer_9     1    1    Warehouse_3          24       55   \n",
      "2          4  Retailer_8     1    1    Warehouse_2           0       55   \n",
      "3          4  Retailer_9     1    1    Warehouse_2           0      100   \n",
      "4          4  Retailer_8     1    1    Warehouse_1           0       36   \n",
      "5          4  Retailer_9     1    1    Warehouse_1           0       81   \n",
      "\n",
      "   Additional_Costs  \n",
      "0           19.7128  \n",
      "1           29.0655  \n",
      "2            0.0000  \n",
      "3            0.0000  \n",
      "4            0.0000  \n",
      "5            0.0000  \n",
      "i:  5\n"
     ]
    },
    {
     "name": "stdout",
     "output_type": "stream",
     "text": [
      "self.accept_orders: \n",
      "  Product_id    Retailer month week Warehouse_Name Order_Units distance  \\\n",
      "0          5  Retailer_2     1    1    Warehouse_3           0       16   \n",
      "1          5  Retailer_1     1    1    Warehouse_3           0       53   \n",
      "2          5  Retailer_7     1    1    Warehouse_3           0       63   \n",
      "3          5  Retailer_2     1    1    Warehouse_2           0       29   \n",
      "4          5  Retailer_1     1    1    Warehouse_2           0       46   \n",
      "5          5  Retailer_7     1    1    Warehouse_2           0       50   \n",
      "6          5  Retailer_2     1    1    Warehouse_1          29       10   \n",
      "7          5  Retailer_1     1    1    Warehouse_1          31       27   \n",
      "8          5  Retailer_7     1    1    Warehouse_1          32       44   \n",
      "\n",
      "   Additional_Costs  \n",
      "0            0.0000  \n",
      "1            0.0000  \n",
      "2            0.0000  \n",
      "3            0.0000  \n",
      "4            0.0000  \n",
      "5            0.0000  \n",
      "6           20.5932  \n",
      "7           25.0253  \n",
      "8           29.0475  \n",
      "self.accept_orders: \n",
      "  Product_id    Retailer month week Warehouse_Name Order_Units distance  \\\n",
      "0          5  Retailer_2     1    1    Warehouse_3           0       16   \n",
      "1          5  Retailer_1     1    1    Warehouse_3           0       53   \n",
      "2          5  Retailer_7     1    1    Warehouse_3           0       63   \n",
      "3          5  Retailer_2     1    1    Warehouse_2           0       29   \n",
      "4          5  Retailer_1     1    1    Warehouse_2           0       46   \n",
      "5          5  Retailer_7     1    1    Warehouse_2           0       50   \n",
      "6          5  Retailer_2     1    1    Warehouse_1          29       10   \n",
      "7          5  Retailer_1     1    1    Warehouse_1          31       27   \n",
      "8          5  Retailer_7     1    1    Warehouse_1          32       44   \n",
      "\n",
      "   Additional_Costs  \n",
      "0            0.0000  \n",
      "1            0.0000  \n",
      "2            0.0000  \n",
      "3            0.0000  \n",
      "4            0.0000  \n",
      "5            0.0000  \n",
      "6           20.5932  \n",
      "7           25.0253  \n",
      "8           29.0475  \n",
      "self.accept_orders: \n",
      "   Product_id    Retailer month week Warehouse_Name Order_Units distance  \\\n",
      "0           5  Retailer_4     1    1    Warehouse_3           0       56   \n",
      "1           5  Retailer_6     1    1    Warehouse_3           0       60   \n",
      "2           5  Retailer_3     1    1    Warehouse_3           0       65   \n",
      "3           5  Retailer_5     1    1    Warehouse_3           0       77   \n",
      "4           5  Retailer_4     1    1    Warehouse_2          33       11   \n",
      "5           5  Retailer_3     1    1    Warehouse_2          26       20   \n",
      "6           5  Retailer_5     1    1    Warehouse_2          31       33   \n",
      "7           5  Retailer_6     1    1    Warehouse_2          30       50   \n",
      "8           5  Retailer_4     1    1    Warehouse_1           0       30   \n",
      "9           5  Retailer_3     1    1    Warehouse_1           0       39   \n",
      "10          5  Retailer_5     1    1    Warehouse_1           0       52   \n",
      "11          5  Retailer_6     1    1    Warehouse_1           0       69   \n",
      "\n",
      "    Additional_Costs  \n",
      "0             0.0000  \n",
      "1             0.0000  \n",
      "2             0.0000  \n",
      "3             0.0000  \n",
      "4            23.4071  \n",
      "5            21.1480  \n",
      "6            28.1431  \n",
      "7            31.6373  \n",
      "8             0.0000  \n",
      "9             0.0000  \n",
      "10            0.0000  \n",
      "11            0.0000  \n",
      "self.accept_orders: \n",
      "   Product_id    Retailer month week Warehouse_Name Order_Units distance  \\\n",
      "0           5  Retailer_4     1    1    Warehouse_3           0       56   \n",
      "1           5  Retailer_6     1    1    Warehouse_3           0       60   \n",
      "2           5  Retailer_3     1    1    Warehouse_3           0       65   \n",
      "3           5  Retailer_5     1    1    Warehouse_3           0       77   \n",
      "4           5  Retailer_4     1    1    Warehouse_2          33       11   \n",
      "5           5  Retailer_3     1    1    Warehouse_2          26       20   \n",
      "6           5  Retailer_5     1    1    Warehouse_2          31       33   \n",
      "7           5  Retailer_6     1    1    Warehouse_2          30       50   \n",
      "8           5  Retailer_4     1    1    Warehouse_1           0       30   \n",
      "9           5  Retailer_3     1    1    Warehouse_1           0       39   \n",
      "10          5  Retailer_5     1    1    Warehouse_1           0       52   \n",
      "11          5  Retailer_6     1    1    Warehouse_1           0       69   \n",
      "\n",
      "    Additional_Costs  \n",
      "0             0.0000  \n",
      "1             0.0000  \n",
      "2             0.0000  \n",
      "3             0.0000  \n",
      "4            23.4071  \n",
      "5            21.1480  \n",
      "6            28.1431  \n",
      "7            31.6373  \n",
      "8             0.0000  \n",
      "9             0.0000  \n",
      "10            0.0000  \n",
      "11            0.0000  \n",
      "self.accept_orders: \n",
      "   Product_id    Retailer month week Warehouse_Name Order_Units distance  \\\n",
      "0           5  Retailer_4     1    1    Warehouse_3           0       56   \n",
      "1           5  Retailer_6     1    1    Warehouse_3           0       60   \n",
      "2           5  Retailer_3     1    1    Warehouse_3           0       65   \n",
      "3           5  Retailer_5     1    1    Warehouse_3           0       77   \n",
      "4           5  Retailer_4     1    1    Warehouse_2          33       11   \n",
      "5           5  Retailer_3     1    1    Warehouse_2          26       20   \n",
      "6           5  Retailer_5     1    1    Warehouse_2          31       33   \n",
      "7           5  Retailer_6     1    1    Warehouse_2          30       50   \n",
      "8           5  Retailer_4     1    1    Warehouse_1           0       30   \n",
      "9           5  Retailer_3     1    1    Warehouse_1           0       39   \n",
      "10          5  Retailer_5     1    1    Warehouse_1           0       52   \n",
      "11          5  Retailer_6     1    1    Warehouse_1           0       69   \n",
      "\n",
      "    Additional_Costs  \n",
      "0             0.0000  \n",
      "1             0.0000  \n",
      "2             0.0000  \n",
      "3             0.0000  \n",
      "4            23.4071  \n",
      "5            21.1480  \n",
      "6            28.1431  \n",
      "7            31.6373  \n",
      "8             0.0000  \n",
      "9             0.0000  \n",
      "10            0.0000  \n",
      "11            0.0000  \n",
      "self.accept_orders: \n",
      "   Product_id    Retailer month week Warehouse_Name Order_Units distance  \\\n",
      "0           5  Retailer_4     1    1    Warehouse_3           0       56   \n",
      "1           5  Retailer_6     1    1    Warehouse_3           0       60   \n",
      "2           5  Retailer_3     1    1    Warehouse_3           0       65   \n",
      "3           5  Retailer_5     1    1    Warehouse_3           0       77   \n",
      "4           5  Retailer_4     1    1    Warehouse_2          33       11   \n",
      "5           5  Retailer_3     1    1    Warehouse_2          26       20   \n",
      "6           5  Retailer_5     1    1    Warehouse_2          31       33   \n",
      "7           5  Retailer_6     1    1    Warehouse_2          30       50   \n",
      "8           5  Retailer_4     1    1    Warehouse_1           0       30   \n",
      "9           5  Retailer_3     1    1    Warehouse_1           0       39   \n",
      "10          5  Retailer_5     1    1    Warehouse_1           0       52   \n",
      "11          5  Retailer_6     1    1    Warehouse_1           0       69   \n",
      "\n",
      "    Additional_Costs  \n",
      "0             0.0000  \n",
      "1             0.0000  \n",
      "2             0.0000  \n",
      "3             0.0000  \n",
      "4            23.4071  \n",
      "5            21.1480  \n",
      "6            28.1431  \n",
      "7            31.6373  \n",
      "8             0.0000  \n",
      "9             0.0000  \n",
      "10            0.0000  \n",
      "11            0.0000  \n",
      "self.accept_orders: \n",
      "  Product_id    Retailer month week Warehouse_Name Order_Units distance  \\\n",
      "0          5  Retailer_8     1    1    Warehouse_3          30       10   \n",
      "1          5  Retailer_9     1    1    Warehouse_3          31       55   \n",
      "2          5  Retailer_8     1    1    Warehouse_2           0       55   \n",
      "3          5  Retailer_9     1    1    Warehouse_2           0      100   \n",
      "4          5  Retailer_8     1    1    Warehouse_1           0       36   \n",
      "5          5  Retailer_9     1    1    Warehouse_1           0       81   \n",
      "\n",
      "   Additional_Costs  \n",
      "0           20.2777  \n",
      "1           33.1460  \n",
      "2            0.0000  \n",
      "3            0.0000  \n",
      "4            0.0000  \n",
      "5            0.0000  \n",
      "self.accept_orders: \n",
      "  Product_id    Retailer month week Warehouse_Name Order_Units distance  \\\n",
      "0          5  Retailer_8     1    1    Warehouse_3          30       10   \n",
      "1          5  Retailer_9     1    1    Warehouse_3          31       55   \n",
      "2          5  Retailer_8     1    1    Warehouse_2           0       55   \n",
      "3          5  Retailer_9     1    1    Warehouse_2           0      100   \n",
      "4          5  Retailer_8     1    1    Warehouse_1           0       36   \n",
      "5          5  Retailer_9     1    1    Warehouse_1           0       81   \n",
      "\n",
      "   Additional_Costs  \n",
      "0           20.2777  \n",
      "1           33.1460  \n",
      "2            0.0000  \n",
      "3            0.0000  \n",
      "4            0.0000  \n",
      "5            0.0000  \n"
     ]
    },
    {
     "name": "stdout",
     "output_type": "stream",
     "text": [
      "i:  6\n",
      "self.accept_orders: \n",
      "  Product_id    Retailer month week Warehouse_Name Order_Units distance  \\\n",
      "0          6  Retailer_2     1    1    Warehouse_3           5       16   \n",
      "1          6  Retailer_1     1    1    Warehouse_3           0       53   \n",
      "2          6  Retailer_7     1    1    Warehouse_3           0       63   \n",
      "3          6  Retailer_2     1    1    Warehouse_2           0       29   \n",
      "4          6  Retailer_1     1    1    Warehouse_2           0       46   \n",
      "5          6  Retailer_7     1    1    Warehouse_2           0       50   \n",
      "6          6  Retailer_2     1    1    Warehouse_1          30       10   \n",
      "7          6  Retailer_1     1    1    Warehouse_1          33       27   \n",
      "8          6  Retailer_7     1    1    Warehouse_1          32       44   \n",
      "\n",
      "   Additional_Costs  \n",
      "0            7.9436  \n",
      "1            0.0000  \n",
      "2            0.0000  \n",
      "3            0.0000  \n",
      "4            0.0000  \n",
      "5            0.0000  \n",
      "6           21.2027  \n",
      "7           26.1653  \n",
      "8           29.0475  \n",
      "self.accept_orders: \n",
      "  Product_id    Retailer month week Warehouse_Name Order_Units distance  \\\n",
      "0          6  Retailer_2     1    1    Warehouse_3           5       16   \n",
      "1          6  Retailer_1     1    1    Warehouse_3           0       53   \n",
      "2          6  Retailer_7     1    1    Warehouse_3           0       63   \n",
      "3          6  Retailer_2     1    1    Warehouse_2           0       29   \n",
      "4          6  Retailer_1     1    1    Warehouse_2           0       46   \n",
      "5          6  Retailer_7     1    1    Warehouse_2           0       50   \n",
      "6          6  Retailer_2     1    1    Warehouse_1          30       10   \n",
      "7          6  Retailer_1     1    1    Warehouse_1          33       27   \n",
      "8          6  Retailer_7     1    1    Warehouse_1          32       44   \n",
      "\n",
      "   Additional_Costs  \n",
      "0            7.9436  \n",
      "1            0.0000  \n",
      "2            0.0000  \n",
      "3            0.0000  \n",
      "4            0.0000  \n",
      "5            0.0000  \n",
      "6           21.2027  \n",
      "7           26.1653  \n",
      "8           29.0475  \n",
      "self.accept_orders: \n",
      "   Product_id    Retailer month week Warehouse_Name Order_Units distance  \\\n",
      "0           6  Retailer_4     1    1    Warehouse_3           0       56   \n",
      "1           6  Retailer_6     1    1    Warehouse_3           5       60   \n",
      "2           6  Retailer_3     1    1    Warehouse_3           0       65   \n",
      "3           6  Retailer_5     1    1    Warehouse_3           0       77   \n",
      "4           6  Retailer_4     1    1    Warehouse_2          28       11   \n",
      "5           6  Retailer_3     1    1    Warehouse_2          26       20   \n",
      "6           6  Retailer_5     1    1    Warehouse_2          30       33   \n",
      "7           6  Retailer_6     1    1    Warehouse_2          33       50   \n",
      "8           6  Retailer_4     1    1    Warehouse_1           0       30   \n",
      "9           6  Retailer_3     1    1    Warehouse_1           0       39   \n",
      "10          6  Retailer_5     1    1    Warehouse_1           0       52   \n",
      "11          6  Retailer_6     1    1    Warehouse_1           0       69   \n",
      "\n",
      "    Additional_Costs  \n",
      "0             0.0000  \n",
      "1            19.3753  \n",
      "2             0.0000  \n",
      "3             0.0000  \n",
      "4            20.3891  \n",
      "5            21.1480  \n",
      "6            27.5330  \n",
      "7            33.4342  \n",
      "8             0.0000  \n",
      "9             0.0000  \n",
      "10            0.0000  \n",
      "11            0.0000  \n",
      "self.accept_orders: \n",
      "   Product_id    Retailer month week Warehouse_Name Order_Units distance  \\\n",
      "0           6  Retailer_4     1    1    Warehouse_3           0       56   \n",
      "1           6  Retailer_6     1    1    Warehouse_3           5       60   \n",
      "2           6  Retailer_3     1    1    Warehouse_3           0       65   \n",
      "3           6  Retailer_5     1    1    Warehouse_3           0       77   \n",
      "4           6  Retailer_4     1    1    Warehouse_2          28       11   \n",
      "5           6  Retailer_3     1    1    Warehouse_2          26       20   \n",
      "6           6  Retailer_5     1    1    Warehouse_2          30       33   \n",
      "7           6  Retailer_6     1    1    Warehouse_2          33       50   \n",
      "8           6  Retailer_4     1    1    Warehouse_1           0       30   \n",
      "9           6  Retailer_3     1    1    Warehouse_1           0       39   \n",
      "10          6  Retailer_5     1    1    Warehouse_1           0       52   \n",
      "11          6  Retailer_6     1    1    Warehouse_1           0       69   \n",
      "\n",
      "    Additional_Costs  \n",
      "0             0.0000  \n",
      "1            19.3753  \n",
      "2             0.0000  \n",
      "3             0.0000  \n",
      "4            20.3891  \n",
      "5            21.1480  \n",
      "6            27.5330  \n",
      "7            33.4342  \n",
      "8             0.0000  \n",
      "9             0.0000  \n",
      "10            0.0000  \n",
      "11            0.0000  \n",
      "self.accept_orders: \n",
      "   Product_id    Retailer month week Warehouse_Name Order_Units distance  \\\n",
      "0           6  Retailer_4     1    1    Warehouse_3           0       56   \n",
      "1           6  Retailer_6     1    1    Warehouse_3           5       60   \n",
      "2           6  Retailer_3     1    1    Warehouse_3           0       65   \n",
      "3           6  Retailer_5     1    1    Warehouse_3           0       77   \n",
      "4           6  Retailer_4     1    1    Warehouse_2          28       11   \n",
      "5           6  Retailer_3     1    1    Warehouse_2          26       20   \n",
      "6           6  Retailer_5     1    1    Warehouse_2          30       33   \n",
      "7           6  Retailer_6     1    1    Warehouse_2          33       50   \n",
      "8           6  Retailer_4     1    1    Warehouse_1           0       30   \n",
      "9           6  Retailer_3     1    1    Warehouse_1           0       39   \n",
      "10          6  Retailer_5     1    1    Warehouse_1           0       52   \n",
      "11          6  Retailer_6     1    1    Warehouse_1           0       69   \n",
      "\n",
      "    Additional_Costs  \n",
      "0             0.0000  \n",
      "1            19.3753  \n",
      "2             0.0000  \n",
      "3             0.0000  \n",
      "4            20.3891  \n",
      "5            21.1480  \n",
      "6            27.5330  \n",
      "7            33.4342  \n",
      "8             0.0000  \n",
      "9             0.0000  \n",
      "10            0.0000  \n",
      "11            0.0000  \n",
      "self.accept_orders: \n",
      "   Product_id    Retailer month week Warehouse_Name Order_Units distance  \\\n",
      "0           6  Retailer_4     1    1    Warehouse_3           0       56   \n",
      "1           6  Retailer_6     1    1    Warehouse_3           5       60   \n",
      "2           6  Retailer_3     1    1    Warehouse_3           0       65   \n",
      "3           6  Retailer_5     1    1    Warehouse_3           0       77   \n",
      "4           6  Retailer_4     1    1    Warehouse_2          28       11   \n",
      "5           6  Retailer_3     1    1    Warehouse_2          26       20   \n",
      "6           6  Retailer_5     1    1    Warehouse_2          30       33   \n",
      "7           6  Retailer_6     1    1    Warehouse_2          33       50   \n",
      "8           6  Retailer_4     1    1    Warehouse_1           0       30   \n",
      "9           6  Retailer_3     1    1    Warehouse_1           0       39   \n",
      "10          6  Retailer_5     1    1    Warehouse_1           0       52   \n",
      "11          6  Retailer_6     1    1    Warehouse_1           0       69   \n",
      "\n",
      "    Additional_Costs  \n",
      "0             0.0000  \n",
      "1            19.3753  \n",
      "2             0.0000  \n",
      "3             0.0000  \n",
      "4            20.3891  \n",
      "5            21.1480  \n",
      "6            27.5330  \n",
      "7            33.4342  \n",
      "8             0.0000  \n",
      "9             0.0000  \n",
      "10            0.0000  \n",
      "11            0.0000  \n",
      "self.accept_orders: \n",
      "  Product_id    Retailer month week Warehouse_Name Order_Units distance  \\\n",
      "0          6  Retailer_8     1    1    Warehouse_3          30       10   \n",
      "1          6  Retailer_9     1    1    Warehouse_3          29       55   \n",
      "2          6  Retailer_8     1    1    Warehouse_2           0       55   \n",
      "3          6  Retailer_9     1    1    Warehouse_2           0      100   \n",
      "4          6  Retailer_8     1    1    Warehouse_1           5       36   \n",
      "5          6  Retailer_9     1    1    Warehouse_1           0       81   \n",
      "\n",
      "   Additional_Costs  \n",
      "0           20.2777  \n",
      "1           31.9801  \n",
      "2            0.0000  \n",
      "3            0.0000  \n",
      "4           12.5293  \n",
      "5            0.0000  \n",
      "self.accept_orders: \n",
      "  Product_id    Retailer month week Warehouse_Name Order_Units distance  \\\n",
      "0          6  Retailer_8     1    1    Warehouse_3          30       10   \n",
      "1          6  Retailer_9     1    1    Warehouse_3          29       55   \n",
      "2          6  Retailer_8     1    1    Warehouse_2           0       55   \n",
      "3          6  Retailer_9     1    1    Warehouse_2           0      100   \n",
      "4          6  Retailer_8     1    1    Warehouse_1           5       36   \n",
      "5          6  Retailer_9     1    1    Warehouse_1           0       81   \n",
      "\n",
      "   Additional_Costs  \n",
      "0           20.2777  \n",
      "1           31.9801  \n",
      "2            0.0000  \n",
      "3            0.0000  \n",
      "4           12.5293  \n",
      "5            0.0000  \n"
     ]
    }
   ],
   "source": [
    "Implement_For_All_Products(Central, Region_1, Region_2, Region_3)"
   ]
  },
  {
   "cell_type": "code",
   "execution_count": 70,
   "metadata": {},
   "outputs": [],
   "source": [
    "test_file = 'foodmart_mysql/agg_c_special_s_fact_6.csv'"
   ]
  },
  {
   "cell_type": "code",
   "execution_count": 71,
   "metadata": {},
   "outputs": [],
   "source": [
    "test_df = All_Data(test_file)"
   ]
  },
  {
   "cell_type": "code",
   "execution_count": 72,
   "metadata": {},
   "outputs": [
    {
     "name": "stdout",
     "output_type": "stream",
     "text": [
      "self.obj:         sd_sell_price  product_id  time_month  week  store_cost_sum  \\\n",
      "0           1.417981           1           1     1          3.1374   \n",
      "1           1.417981           1           1     1          1.9071   \n",
      "2           1.417981           1           1     1          1.7760   \n",
      "3           1.417981           1           1     1          1.0656   \n",
      "4           1.417981           1           1     1          2.0336   \n",
      "...              ...         ...         ...   ...             ...   \n",
      "26846       1.537454           6          12     4          3.7148   \n",
      "26847       1.537454           6          12     4          4.0848   \n",
      "26848       1.537454           6          12     4          3.3210   \n",
      "26849       1.537454           6          12     4          2.4024   \n",
      "26850       1.537454           6          12     4          5.2836   \n",
      "\n",
      "       unit_sales_sum  cost_price  mean_sell_price  retailer  difference  \\\n",
      "0                   3        2.49         2.838893         1      0.6474   \n",
      "1                   3        1.63         2.838893         1      0.2771   \n",
      "2                   3        1.48         2.838893         1      0.2960   \n",
      "3                   3        0.74         2.838893         1      0.3256   \n",
      "4                   4        1.24         2.838893         1      0.7936   \n",
      "...               ...         ...              ...       ...         ...   \n",
      "26846               4        2.51         2.885277         9      1.2048   \n",
      "26847               4        2.22         2.885277         9      1.8648   \n",
      "26848               5        1.62         2.885277         9      1.7010   \n",
      "26849               4        1.43         2.885277         9      0.9724   \n",
      "26850               4        3.57         2.885277         9      1.7136   \n",
      "\n",
      "       weekly_demand  \n",
      "0                 26  \n",
      "1                 26  \n",
      "2                 26  \n",
      "3                 26  \n",
      "4                 26  \n",
      "...              ...  \n",
      "26846             45  \n",
      "26847             45  \n",
      "26848             45  \n",
      "26849             45  \n",
      "26850             45  \n",
      "\n",
      "[26851 rows x 11 columns]\n"
     ]
    }
   ],
   "source": [
    "test_df = test_df.drop_columns(['Unnamed: 0'], 1)\n",
    "test_df.visualize()"
   ]
  },
  {
   "cell_type": "code",
   "execution_count": 73,
   "metadata": {
    "scrolled": false
   },
   "outputs": [],
   "source": [
    "Retailer_1 = Retailer_1_History.Add_Latest_Demand(test_df.obj, month = 1, week = 1)\n",
    "#Retailer_1.new_history"
   ]
  },
  {
   "cell_type": "code",
   "execution_count": 74,
   "metadata": {
    "scrolled": false
   },
   "outputs": [],
   "source": [
    "Retailer_2 = Retailer_2_History.Add_Latest_Demand(test_df.obj, month = 1, week = 1)\n",
    "#Retailer_2.new_history"
   ]
  },
  {
   "cell_type": "code",
   "execution_count": 75,
   "metadata": {
    "scrolled": false
   },
   "outputs": [],
   "source": [
    "Retailer_3 = Retailer_3_History.Add_Latest_Demand(test_df.obj, month = 1, week = 1)\n",
    "#Retailer_3.new_history"
   ]
  },
  {
   "cell_type": "code",
   "execution_count": 76,
   "metadata": {
    "scrolled": false
   },
   "outputs": [],
   "source": [
    "Retailer_4 = Retailer_4_History.Add_Latest_Demand(test_df.obj, month = 1, week = 1)\n",
    "#Retailer_4.new_history"
   ]
  },
  {
   "cell_type": "code",
   "execution_count": 77,
   "metadata": {
    "scrolled": false
   },
   "outputs": [],
   "source": [
    "Retailer_5 = Retailer_5_History.Add_Latest_Demand(test_df.obj, month = 1, week = 1)\n",
    "#Retailer_5.new_history"
   ]
  },
  {
   "cell_type": "code",
   "execution_count": 78,
   "metadata": {
    "scrolled": false
   },
   "outputs": [],
   "source": [
    "Retailer_6 = Retailer_6_History.Add_Latest_Demand(test_df.obj, month = 1, week = 1)\n",
    "#Retailer_6.new_history"
   ]
  },
  {
   "cell_type": "code",
   "execution_count": 79,
   "metadata": {
    "scrolled": false
   },
   "outputs": [],
   "source": [
    "Retailer_7 = Retailer_7_History.Add_Latest_Demand(test_df.obj, month = 1, week = 1)\n",
    "#Retailer_7.new_history"
   ]
  },
  {
   "cell_type": "code",
   "execution_count": 80,
   "metadata": {
    "scrolled": false
   },
   "outputs": [],
   "source": [
    "Retailer_8 = Retailer_8_History.Add_Latest_Demand(test_df.obj, month = 1, week = 1)\n",
    "#Retailer_8.new_history"
   ]
  },
  {
   "cell_type": "code",
   "execution_count": 81,
   "metadata": {
    "scrolled": false
   },
   "outputs": [],
   "source": [
    "Retailer_9 = Retailer_9_History.Add_Latest_Demand(test_df.obj, month = 1, week = 1)\n",
    "#Retailer_9.new_history"
   ]
  },
  {
   "cell_type": "code",
   "execution_count": 82,
   "metadata": {
    "scrolled": false
   },
   "outputs": [
    {
     "name": "stdout",
     "output_type": "stream",
     "text": [
      "D[0]:  invgauss\n"
     ]
    },
    {
     "data": {
      "image/png": "[encoded data removed]",
      "text/plain": [
       "<Figure size 432x288 with 1 Axes>"
      ]
     },
     "metadata": {
      "needs_background": "light"
     },
     "output_type": "display_data"
    },
    {
     "data": {
      "image/png": "[encoded data removed]",
      "text/plain": [
       "<Figure size 432x288 with 1 Axes>"
      ]
     },
     "metadata": {
      "needs_background": "light"
     },
     "output_type": "display_data"
    },
    {
     "name": "stdout",
     "output_type": "stream",
     "text": [
      "D[0]:  norm\n"
     ]
    },
    {
     "data": {
      "image/png": "[encoded data removed]",
      "text/plain": [
       "<Figure size 432x288 with 1 Axes>"
      ]
     },
     "metadata": {
      "needs_background": "light"
     },
     "output_type": "display_data"
    },
    {
     "data": {
      "image/png": "[encoded data removed]",
      "text/plain": [
       "<Figure size 432x288 with 1 Axes>"
      ]
     },
     "metadata": {
      "needs_background": "light"
     },
     "output_type": "display_data"
    },
    {
     "name": "stdout",
     "output_type": "stream",
     "text": [
      "D[0]:  lognorm\n"
     ]
    },
    {
     "data": {
      "image/png": "[encoded data removed]",
      "text/plain": [
       "<Figure size 432x288 with 1 Axes>"
      ]
     },
     "metadata": {
      "needs_background": "light"
     },
     "output_type": "display_data"
    },
    {
     "data": {
      "image/png": "[encoded data removed]",
      "text/plain": [
       "<Figure size 432x288 with 1 Axes>"
      ]
     },
     "metadata": {
      "needs_background": "light"
     },
     "output_type": "display_data"
    },
    {
     "name": "stdout",
     "output_type": "stream",
     "text": [
      "D[0]:  invgauss\n"
     ]
    },
    {
     "data": {
      "image/png": "[encoded data removed]",
      "text/plain": [
       "<Figure size 432x288 with 1 Axes>"
      ]
     },
     "metadata": {
      "needs_background": "light"
     },
     "output_type": "display_data"
    },
    {
     "data": {
      "image/png": "[encoded data removed]",
      "text/plain": [
       "<Figure size 432x288 with 1 Axes>"
      ]
     },
     "metadata": {
      "needs_background": "light"
     },
     "output_type": "display_data"
    },
    {
     "name": "stdout",
     "output_type": "stream",
     "text": [
      "D[0]:  lognorm\n"
     ]
    },
    {
     "data": {
      "image/png": "[encoded data removed]",
      "text/plain": [
       "<Figure size 432x288 with 1 Axes>"
      ]
     },
     "metadata": {
      "needs_background": "light"
     },
     "output_type": "display_data"
    },
    {
     "data": {
      "image/png": "[encoded data removed]",
      "text/plain": [
       "<Figure size 432x288 with 1 Axes>"
      ]
     },
     "metadata": {
      "needs_background": "light"
     },
     "output_type": "display_data"
    },
    {
     "name": "stdout",
     "output_type": "stream",
     "text": [
      "D[0]:  norm\n"
     ]
    },
    {
     "data": {
      "image/png": "[encoded data removed]",
      "text/plain": [
       "<Figure size 432x288 with 1 Axes>"
      ]
     },
     "metadata": {
      "needs_background": "light"
     },
     "output_type": "display_data"
    },
    {
     "data": {
      "image/png": "[encoded data removed]",
      "text/plain": [
       "<Figure size 432x288 with 1 Axes>"
      ]
     },
     "metadata": {
      "needs_background": "light"
     },
     "output_type": "display_data"
    }
   ],
   "source": [
    "fit_distribution(Retailer_1.new_history[-1], 'unit_sales_sum')"
   ]
  },
  {
   "cell_type": "code",
   "execution_count": 83,
   "metadata": {
    "scrolled": false
   },
   "outputs": [
    {
     "name": "stdout",
     "output_type": "stream",
     "text": [
      "D[0]:  invgauss\n"
     ]
    },
    {
     "data": {
      "image/png": "[encoded data removed]",
      "text/plain": [
       "<Figure size 432x288 with 1 Axes>"
      ]
     },
     "metadata": {
      "needs_background": "light"
     },
     "output_type": "display_data"
    },
    {
     "data": {
      "image/png": "[encoded data removed]",
      "text/plain": [
       "<Figure size 432x288 with 1 Axes>"
      ]
     },
     "metadata": {
      "needs_background": "light"
     },
     "output_type": "display_data"
    },
    {
     "name": "stdout",
     "output_type": "stream",
     "text": [
      "D[0]:  beta\n"
     ]
    },
    {
     "data": {
      "image/png": "[encoded data removed]",
      "text/plain": [
       "<Figure size 432x288 with 1 Axes>"
      ]
     },
     "metadata": {
      "needs_background": "light"
     },
     "output_type": "display_data"
    },
    {
     "data": {
      "image/png": "[encoded data removed]",
      "text/plain": [
       "<Figure size 432x288 with 1 Axes>"
      ]
     },
     "metadata": {
      "needs_background": "light"
     },
     "output_type": "display_data"
    },
    {
     "name": "stdout",
     "output_type": "stream",
     "text": [
      "D[0]:  invgauss\n"
     ]
    },
    {
     "data": {
      "image/png": "[encoded data removed]",
      "text/plain": [
       "<Figure size 432x288 with 1 Axes>"
      ]
     },
     "metadata": {
      "needs_background": "light"
     },
     "output_type": "display_data"
    },
    {
     "data": {
      "image/png": "[encoded data removed]",
      "text/plain": [
       "<Figure size 432x288 with 1 Axes>"
      ]
     },
     "metadata": {
      "needs_background": "light"
     },
     "output_type": "display_data"
    },
    {
     "name": "stdout",
     "output_type": "stream",
     "text": [
      "D[0]:  beta\n"
     ]
    },
    {
     "data": {
      "image/png": "[encoded data removed]",
      "text/plain": [
       "<Figure size 432x288 with 1 Axes>"
      ]
     },
     "metadata": {
      "needs_background": "light"
     },
     "output_type": "display_data"
    },
    {
     "data": {
      "image/png": "[encoded data removed]",
      "text/plain": [
       "<Figure size 432x288 with 1 Axes>"
      ]
     },
     "metadata": {
      "needs_background": "light"
     },
     "output_type": "display_data"
    },
    {
     "name": "stdout",
     "output_type": "stream",
     "text": [
      "D[0]:  triang\n"
     ]
    },
    {
     "data": {
      "image/png": "[encoded data removed]",
      "text/plain": [
       "<Figure size 432x288 with 1 Axes>"
      ]
     },
     "metadata": {
      "needs_background": "light"
     },
     "output_type": "display_data"
    },
    {
     "data": {
      "image/png": "[encoded data removed]",
      "text/plain": [
       "<Figure size 432x288 with 1 Axes>"
      ]
     },
     "metadata": {
      "needs_background": "light"
     },
     "output_type": "display_data"
    },
    {
     "name": "stdout",
     "output_type": "stream",
     "text": [
      "D[0]:  invgauss\n"
     ]
    },
    {
     "data": {
      "image/png": "[encoded data removed]",
      "text/plain": [
       "<Figure size 432x288 with 1 Axes>"
      ]
     },
     "metadata": {
      "needs_background": "light"
     },
     "output_type": "display_data"
    },
    {
     "data": {
      "image/png": "[encoded data removed]",
      "text/plain": [
       "<Figure size 432x288 with 1 Axes>"
      ]
     },
     "metadata": {
      "needs_background": "light"
     },
     "output_type": "display_data"
    }
   ],
   "source": [
    "fit_distribution(Retailer_1.new_history[-1], 'store_cost_sum')"
   ]
  },
  {
   "cell_type": "code",
   "execution_count": 84,
   "metadata": {
    "scrolled": true
   },
   "outputs": [],
   "source": [
    "#Retailer_1.inventory"
   ]
  },
  {
   "cell_type": "code",
   "execution_count": 85,
   "metadata": {},
   "outputs": [],
   "source": [
    "Predict_1 = Prediction(Retailer_1)"
   ]
  },
  {
   "cell_type": "code",
   "execution_count": 86,
   "metadata": {},
   "outputs": [],
   "source": [
    "Predict_1 = Predict_1.Demand_Change(month = 1, week = 1)"
   ]
  },
  {
   "cell_type": "code",
   "execution_count": 87,
   "metadata": {},
   "outputs": [],
   "source": [
    "#Predict_1.prev_demand"
   ]
  },
  {
   "cell_type": "code",
   "execution_count": 88,
   "metadata": {},
   "outputs": [
    {
     "data": {
      "text/plain": [
       "{1: 26, 2: 37, 3: 44, 4: 37, 5: 36, 6: 35}"
      ]
     },
     "execution_count": 88,
     "metadata": {},
     "output_type": "execute_result"
    }
   ],
   "source": [
    "Predict_1.current_demand"
   ]
  },
  {
   "cell_type": "code",
   "execution_count": 89,
   "metadata": {
    "scrolled": false
   },
   "outputs": [],
   "source": [
    "#Retailer_1.inventory"
   ]
  },
  {
   "cell_type": "code",
   "execution_count": 90,
   "metadata": {
    "scrolled": true
   },
   "outputs": [],
   "source": [
    "#Retailer_2.inventory"
   ]
  },
  {
   "cell_type": "code",
   "execution_count": 91,
   "metadata": {},
   "outputs": [],
   "source": [
    "Predict_2 = Prediction(Retailer_2)"
   ]
  },
  {
   "cell_type": "code",
   "execution_count": 92,
   "metadata": {},
   "outputs": [],
   "source": [
    "Predict_2 = Predict_2.Demand_Change(month = 1, week = 1)"
   ]
  },
  {
   "cell_type": "code",
   "execution_count": 93,
   "metadata": {},
   "outputs": [],
   "source": [
    "#Predict_2.prev_demand"
   ]
  },
  {
   "cell_type": "code",
   "execution_count": 94,
   "metadata": {},
   "outputs": [
    {
     "data": {
      "text/plain": [
       "{1: 43, 2: 31, 3: 36, 4: 41, 5: 27, 6: 32}"
      ]
     },
     "execution_count": 94,
     "metadata": {},
     "output_type": "execute_result"
    }
   ],
   "source": [
    "Predict_2.current_demand"
   ]
  },
  {
   "cell_type": "code",
   "execution_count": 95,
   "metadata": {},
   "outputs": [],
   "source": [
    "#Retailer_2.inventory"
   ]
  },
  {
   "cell_type": "code",
   "execution_count": 96,
   "metadata": {
    "scrolled": true
   },
   "outputs": [],
   "source": [
    "#Retailer_3.inventory"
   ]
  },
  {
   "cell_type": "code",
   "execution_count": 97,
   "metadata": {},
   "outputs": [],
   "source": [
    "Predict_3 = Prediction(Retailer_3)"
   ]
  },
  {
   "cell_type": "code",
   "execution_count": 98,
   "metadata": {},
   "outputs": [],
   "source": [
    "Predict_3 = Predict_3.Demand_Change(month = 1, week = 1)"
   ]
  },
  {
   "cell_type": "code",
   "execution_count": 99,
   "metadata": {},
   "outputs": [],
   "source": [
    "#Predict_3.prev_demand"
   ]
  },
  {
   "cell_type": "code",
   "execution_count": 100,
   "metadata": {},
   "outputs": [
    {
     "data": {
      "text/plain": [
       "{1: 47, 2: 30, 3: 24, 4: 45, 5: 27, 6: 34}"
      ]
     },
     "execution_count": 100,
     "metadata": {},
     "output_type": "execute_result"
    }
   ],
   "source": [
    "Predict_3.current_demand"
   ]
  },
  {
   "cell_type": "code",
   "execution_count": 101,
   "metadata": {},
   "outputs": [],
   "source": [
    "#Retailer_3.inventory"
   ]
  },
  {
   "cell_type": "code",
   "execution_count": 102,
   "metadata": {
    "scrolled": true
   },
   "outputs": [],
   "source": [
    "#Retailer_4.inventory"
   ]
  },
  {
   "cell_type": "code",
   "execution_count": 103,
   "metadata": {},
   "outputs": [],
   "source": [
    "Predict_4 = Prediction(Retailer_4)"
   ]
  },
  {
   "cell_type": "code",
   "execution_count": 104,
   "metadata": {},
   "outputs": [],
   "source": [
    "Predict_4 = Predict_4.Demand_Change(month = 1, week = 1)"
   ]
  },
  {
   "cell_type": "code",
   "execution_count": 105,
   "metadata": {},
   "outputs": [],
   "source": [
    "#Predict_4.prev_demand"
   ]
  },
  {
   "cell_type": "code",
   "execution_count": 106,
   "metadata": {},
   "outputs": [
    {
     "data": {
      "text/plain": [
       "{1: 45, 2: 38, 3: 34, 4: 33, 5: 43, 6: 47}"
      ]
     },
     "execution_count": 106,
     "metadata": {},
     "output_type": "execute_result"
    }
   ],
   "source": [
    "Predict_4.current_demand"
   ]
  },
  {
   "cell_type": "code",
   "execution_count": 107,
   "metadata": {},
   "outputs": [],
   "source": [
    "#Retailer_4.inventory"
   ]
  },
  {
   "cell_type": "code",
   "execution_count": 108,
   "metadata": {
    "scrolled": true
   },
   "outputs": [],
   "source": [
    "#Retailer_5.inventory"
   ]
  },
  {
   "cell_type": "code",
   "execution_count": 109,
   "metadata": {},
   "outputs": [],
   "source": [
    "Predict_5 = Prediction(Retailer_5)"
   ]
  },
  {
   "cell_type": "code",
   "execution_count": 110,
   "metadata": {},
   "outputs": [],
   "source": [
    "Predict_5 = Predict_5.Demand_Change(month = 1, week = 1)"
   ]
  },
  {
   "cell_type": "code",
   "execution_count": 111,
   "metadata": {},
   "outputs": [],
   "source": [
    "#Predict_5.prev_demand"
   ]
  },
  {
   "cell_type": "code",
   "execution_count": 112,
   "metadata": {},
   "outputs": [
    {
     "data": {
      "text/plain": [
       "{1: 34, 2: 28, 3: 37, 4: 28, 5: 31, 6: 31}"
      ]
     },
     "execution_count": 112,
     "metadata": {},
     "output_type": "execute_result"
    }
   ],
   "source": [
    "Predict_5.current_demand"
   ]
  },
  {
   "cell_type": "code",
   "execution_count": 113,
   "metadata": {
    "scrolled": true
   },
   "outputs": [],
   "source": [
    "#Retailer_5.inventory"
   ]
  },
  {
   "cell_type": "code",
   "execution_count": 114,
   "metadata": {
    "scrolled": true
   },
   "outputs": [],
   "source": [
    "#Retailer_6.inventory"
   ]
  },
  {
   "cell_type": "code",
   "execution_count": 115,
   "metadata": {},
   "outputs": [],
   "source": [
    "Predict_6 = Prediction(Retailer_6)"
   ]
  },
  {
   "cell_type": "code",
   "execution_count": 116,
   "metadata": {},
   "outputs": [],
   "source": [
    "Predict_6 = Predict_6.Demand_Change(month = 1, week = 1)"
   ]
  },
  {
   "cell_type": "code",
   "execution_count": 117,
   "metadata": {},
   "outputs": [],
   "source": [
    "#Predict_6.prev_demand"
   ]
  },
  {
   "cell_type": "code",
   "execution_count": 118,
   "metadata": {},
   "outputs": [
    {
     "data": {
      "text/plain": [
       "{1: 42, 2: 36, 3: 33, 4: 40, 5: 34, 6: 39}"
      ]
     },
     "execution_count": 118,
     "metadata": {},
     "output_type": "execute_result"
    }
   ],
   "source": [
    "Predict_6.current_demand"
   ]
  },
  {
   "cell_type": "code",
   "execution_count": 119,
   "metadata": {},
   "outputs": [],
   "source": [
    "#Retailer_6.inventory"
   ]
  },
  {
   "cell_type": "code",
   "execution_count": 120,
   "metadata": {
    "scrolled": true
   },
   "outputs": [],
   "source": [
    "#Retailer_7.inventory"
   ]
  },
  {
   "cell_type": "code",
   "execution_count": 121,
   "metadata": {},
   "outputs": [],
   "source": [
    "Predict_7 = Prediction(Retailer_7)"
   ]
  },
  {
   "cell_type": "code",
   "execution_count": 122,
   "metadata": {},
   "outputs": [],
   "source": [
    "Predict_7 = Predict_7.Demand_Change(month = 1, week = 1)"
   ]
  },
  {
   "cell_type": "code",
   "execution_count": 123,
   "metadata": {},
   "outputs": [],
   "source": [
    "#Predict_7.prev_demand"
   ]
  },
  {
   "cell_type": "code",
   "execution_count": 124,
   "metadata": {},
   "outputs": [
    {
     "data": {
      "text/plain": [
       "{1: 30, 2: 41, 3: 39, 4: 32, 5: 38, 6: 44}"
      ]
     },
     "execution_count": 124,
     "metadata": {},
     "output_type": "execute_result"
    }
   ],
   "source": [
    "Predict_7.current_demand"
   ]
  },
  {
   "cell_type": "code",
   "execution_count": 125,
   "metadata": {},
   "outputs": [],
   "source": [
    "#Retailer_7.inventory"
   ]
  },
  {
   "cell_type": "code",
   "execution_count": 126,
   "metadata": {
    "scrolled": true
   },
   "outputs": [],
   "source": [
    "#Retailer_8.inventory"
   ]
  },
  {
   "cell_type": "code",
   "execution_count": 127,
   "metadata": {},
   "outputs": [],
   "source": [
    "Predict_8 = Prediction(Retailer_8)"
   ]
  },
  {
   "cell_type": "code",
   "execution_count": 128,
   "metadata": {},
   "outputs": [],
   "source": [
    "Predict_8 = Predict_8.Demand_Change(month = 1, week = 1)"
   ]
  },
  {
   "cell_type": "code",
   "execution_count": 129,
   "metadata": {},
   "outputs": [],
   "source": [
    "#Predict_8.prev_demand"
   ]
  },
  {
   "cell_type": "code",
   "execution_count": 130,
   "metadata": {},
   "outputs": [
    {
     "data": {
      "text/plain": [
       "{1: 29, 2: 32, 3: 32, 4: 36, 5: 41, 6: 30}"
      ]
     },
     "execution_count": 130,
     "metadata": {},
     "output_type": "execute_result"
    }
   ],
   "source": [
    "Predict_8.current_demand"
   ]
  },
  {
   "cell_type": "code",
   "execution_count": 131,
   "metadata": {},
   "outputs": [],
   "source": [
    "#Retailer_8.inventory"
   ]
  },
  {
   "cell_type": "code",
   "execution_count": 132,
   "metadata": {
    "scrolled": true
   },
   "outputs": [],
   "source": [
    "#Retailer_9.inventory"
   ]
  },
  {
   "cell_type": "code",
   "execution_count": 133,
   "metadata": {},
   "outputs": [],
   "source": [
    "Predict_9 = Prediction(Retailer_9)"
   ]
  },
  {
   "cell_type": "code",
   "execution_count": 134,
   "metadata": {},
   "outputs": [],
   "source": [
    "Predict_9 = Predict_9.Demand_Change(month = 1, week = 1)"
   ]
  },
  {
   "cell_type": "code",
   "execution_count": 135,
   "metadata": {},
   "outputs": [],
   "source": [
    "#Predict_9.prev_demand"
   ]
  },
  {
   "cell_type": "code",
   "execution_count": 136,
   "metadata": {},
   "outputs": [
    {
     "data": {
      "text/plain": [
       "{1: 43, 2: 45, 3: 33, 4: 38, 5: 37, 6: 29}"
      ]
     },
     "execution_count": 136,
     "metadata": {},
     "output_type": "execute_result"
    }
   ],
   "source": [
    "Predict_9.current_demand"
   ]
  },
  {
   "cell_type": "code",
   "execution_count": 137,
   "metadata": {},
   "outputs": [],
   "source": [
    "#Retailer_9.inventory"
   ]
  }
 ],
 "metadata": {
  "kernelspec": {
   "display_name": "Python 3",
   "language": "python",
   "name": "python3"
  },
  "language_info": {
   "codemirror_mode": {
    "name": "ipython",
    "version": 3
   },
   "file_extension": ".py",
   "mimetype": "text/x-python",
   "name": "python",
   "nbconvert_exporter": "python",
   "pygments_lexer": "ipython3",
   "version": "3.6.5"
  }
 },
 "nbformat": 4,
 "nbformat_minor": 4
}
