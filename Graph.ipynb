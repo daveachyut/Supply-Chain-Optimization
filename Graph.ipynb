{
 "cells": [
  {
   "cell_type": "code",
   "execution_count": 1,
   "metadata": {},
   "outputs": [],
   "source": [
    "import itertools\n",
    "import copy\n",
    "import networkx as nx\n",
    "import pandas as pd\n",
    "import matplotlib.pyplot as plt\n",
    "\n",
    "# Grab edge list data hosted on Gist\n",
    "edgelist = pd.read_csv('edgelist.csv')"
   ]
  },
  {
   "cell_type": "code",
   "execution_count": 2,
   "metadata": {},
   "outputs": [],
   "source": [
    "#edgelist.head(10)"
   ]
  },
  {
   "cell_type": "code",
   "execution_count": 3,
   "metadata": {},
   "outputs": [
    {
     "data": {
      "text/html": [
       "<div>\n",
       "<style scoped>\n",
       "    .dataframe tbody tr th:only-of-type {\n",
       "        vertical-align: middle;\n",
       "    }\n",
       "\n",
       "    .dataframe tbody tr th {\n",
       "        vertical-align: top;\n",
       "    }\n",
       "\n",
       "    .dataframe thead th {\n",
       "        text-align: right;\n",
       "    }\n",
       "</style>\n",
       "<table border=\"1\" class=\"dataframe\">\n",
       "  <thead>\n",
       "    <tr style=\"text-align: right;\">\n",
       "      <th></th>\n",
       "      <th>id</th>\n",
       "      <th>X</th>\n",
       "      <th>Y</th>\n",
       "    </tr>\n",
       "  </thead>\n",
       "  <tbody>\n",
       "    <tr>\n",
       "      <th>0</th>\n",
       "      <td>W_1</td>\n",
       "      <td>64.896</td>\n",
       "      <td>59.3755</td>\n",
       "    </tr>\n",
       "    <tr>\n",
       "      <th>1</th>\n",
       "      <td>R_1</td>\n",
       "      <td>91.896</td>\n",
       "      <td>59.3755</td>\n",
       "    </tr>\n",
       "    <tr>\n",
       "      <th>2</th>\n",
       "      <td>R_2</td>\n",
       "      <td>54.896</td>\n",
       "      <td>59.3755</td>\n",
       "    </tr>\n",
       "    <tr>\n",
       "      <th>3</th>\n",
       "      <td>R_7</td>\n",
       "      <td>54.896</td>\n",
       "      <td>93.3755</td>\n",
       "    </tr>\n",
       "    <tr>\n",
       "      <th>4</th>\n",
       "      <td>W_2</td>\n",
       "      <td>64.937</td>\n",
       "      <td>40.3755</td>\n",
       "    </tr>\n",
       "    <tr>\n",
       "      <th>5</th>\n",
       "      <td>R_3</td>\n",
       "      <td>84.937</td>\n",
       "      <td>40.3755</td>\n",
       "    </tr>\n",
       "    <tr>\n",
       "      <th>6</th>\n",
       "      <td>R_4</td>\n",
       "      <td>64.937</td>\n",
       "      <td>29.3755</td>\n",
       "    </tr>\n",
       "    <tr>\n",
       "      <th>7</th>\n",
       "      <td>R_5</td>\n",
       "      <td>56.396</td>\n",
       "      <td>8.5000</td>\n",
       "    </tr>\n",
       "    <tr>\n",
       "      <th>8</th>\n",
       "      <td>R_6</td>\n",
       "      <td>41.674</td>\n",
       "      <td>0.0000</td>\n",
       "    </tr>\n",
       "    <tr>\n",
       "      <th>9</th>\n",
       "      <td>W_3</td>\n",
       "      <td>38.896</td>\n",
       "      <td>59.3755</td>\n",
       "    </tr>\n",
       "    <tr>\n",
       "      <th>10</th>\n",
       "      <td>R_8</td>\n",
       "      <td>28.896</td>\n",
       "      <td>59.3755</td>\n",
       "    </tr>\n",
       "    <tr>\n",
       "      <th>11</th>\n",
       "      <td>R_9</td>\n",
       "      <td>0.000</td>\n",
       "      <td>98.2715</td>\n",
       "    </tr>\n",
       "  </tbody>\n",
       "</table>\n",
       "</div>"
      ],
      "text/plain": [
       "     id       X        Y\n",
       "0   W_1  64.896  59.3755\n",
       "1   R_1  91.896  59.3755\n",
       "2   R_2  54.896  59.3755\n",
       "3   R_7  54.896  93.3755\n",
       "4   W_2  64.937  40.3755\n",
       "5   R_3  84.937  40.3755\n",
       "6   R_4  64.937  29.3755\n",
       "7   R_5  56.396   8.5000\n",
       "8   R_6  41.674   0.0000\n",
       "9   W_3  38.896  59.3755\n",
       "10  R_8  28.896  59.3755\n",
       "11  R_9   0.000  98.2715"
      ]
     },
     "execution_count": 3,
     "metadata": {},
     "output_type": "execute_result"
    }
   ],
   "source": [
    "nodelist = pd.read_csv('nodelist.csv')\n",
    "nodelist"
   ]
  },
  {
   "cell_type": "code",
   "execution_count": 4,
   "metadata": {},
   "outputs": [],
   "source": [
    "# Create empty graph\n",
    "g = nx.Graph()\n",
    "# Add edges and edge attributes\n",
    "for i, elrow in edgelist.iterrows():\n",
    "    g.add_edge(elrow[0], elrow[1], attr_dict=elrow[2:].to_dict())"
   ]
  },
  {
   "cell_type": "code",
   "execution_count": 5,
   "metadata": {},
   "outputs": [],
   "source": [
    "# Add node attributes\n",
    "for i, nlrow in nodelist.iterrows():\n",
    "    g.nodes[nlrow['id']].update(nlrow[1:].to_dict())"
   ]
  },
  {
   "cell_type": "code",
   "execution_count": 6,
   "metadata": {},
   "outputs": [],
   "source": [
    "# Edge list example\n",
    "#print(elrow[0]) # node1\n",
    "#print(elrow[1]) # node2\n",
    "#print(elrow[2:].to_dict()) # edge attribute dict"
   ]
  },
  {
   "cell_type": "code",
   "execution_count": 7,
   "metadata": {},
   "outputs": [
    {
     "data": {
      "text/plain": [
       "NodeDataView({'W_1': {'X': 64.896, 'Y': 59.3755}, 'R_1': {'X': 91.896, 'Y': 59.3755}, 'R_2': {'X': 54.896, 'Y': 59.3755}, 'R_7': {'X': 54.896, 'Y': 93.3755}, 'W_2': {'X': 64.937, 'Y': 40.3755}, 'R_3': {'X': 84.93700000000001, 'Y': 40.3755}, 'R_4': {'X': 64.937, 'Y': 29.3755}, 'R_5': {'X': 56.396, 'Y': 8.5}, 'R_6': {'X': 41.674, 'Y': 0.0}, 'W_3': {'X': 38.896, 'Y': 59.3755}, 'R_8': {'X': 28.896, 'Y': 59.3755}, 'R_9': {'X': 0.0, 'Y': 98.2715}})"
      ]
     },
     "execution_count": 7,
     "metadata": {},
     "output_type": "execute_result"
    }
   ],
   "source": [
    "g.nodes(data=True)"
   ]
  },
  {
   "cell_type": "code",
   "execution_count": 8,
   "metadata": {},
   "outputs": [],
   "source": [
    "#for node in g.nodes(data=True):\n",
    "    #print(node[1]['X'])"
   ]
  },
  {
   "cell_type": "code",
   "execution_count": 9,
   "metadata": {},
   "outputs": [
    {
     "data": {
      "text/plain": [
       "{'W_1': (64.896, -59.3755),\n",
       " 'R_1': (91.896, -59.3755),\n",
       " 'R_2': (54.896, -59.3755),\n",
       " 'R_7': (54.896, -93.3755),\n",
       " 'W_2': (64.937, -40.3755)}"
      ]
     },
     "execution_count": 9,
     "metadata": {},
     "output_type": "execute_result"
    }
   ],
   "source": [
    "# Define node positions data structure (dict) for plotting\n",
    "node_positions = {node[0]: (node[1]['X'], -node[1]['Y']) for node in g.nodes(data=True)}\n",
    "\n",
    "# Preview of node_positions with a bit of hack (there is no head/slice method for dictionaries).\n",
    "dict(list(node_positions.items())[0:5])"
   ]
  },
  {
   "cell_type": "code",
   "execution_count": 10,
   "metadata": {},
   "outputs": [],
   "source": [
    "# Define data structure (list) of edge colors for plotting\n",
    "node_colors = []\n",
    "for n in g.nodes(data=True):\n",
    "    if n[0][0] == 'W':\n",
    "        node_colors.append('red')\n",
    "    elif n[0][0] == 'R':\n",
    "        node_colors.append('blue')\n",
    "#node_colors"
   ]
  },
  {
   "cell_type": "code",
   "execution_count": 11,
   "metadata": {},
   "outputs": [
    {
     "data": {
      "image/png": "[encoded data removed]",
      "text/plain": [
       "<Figure size 576x432 with 1 Axes>"
      ]
     },
     "metadata": {},
     "output_type": "display_data"
    }
   ],
   "source": [
    "plt.figure(figsize=(8, 6))\n",
    "nx.draw(g, pos=node_positions, node_size=20, node_color=node_colors)\n",
    "plt.title('Graph Representation of Costco Retailers and Warehouse Map', size=15)\n",
    "plt.show()"
   ]
  }
 ],
 "metadata": {
  "kernelspec": {
   "display_name": "Python 3",
   "language": "python",
   "name": "python3"
  },
  "language_info": {
   "codemirror_mode": {
    "name": "ipython",
    "version": 3
   },
   "file_extension": ".py",
   "mimetype": "text/x-python",
   "name": "python",
   "nbconvert_exporter": "python",
   "pygments_lexer": "ipython3",
   "version": "3.6.5"
  }
 },
 "nbformat": 4,
 "nbformat_minor": 4
}
