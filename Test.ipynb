{
 "cells": [
  {
   "cell_type": "markdown",
   "metadata": {},
   "source": [
    "Import libraries"
   ]
  },
  {
   "cell_type": "code",
   "execution_count": 1,
   "metadata": {},
   "outputs": [],
   "source": [
    "import numpy as np\n",
    "import matplotlib.pyplot as plt"
   ]
  },
  {
   "cell_type": "code",
   "execution_count": 2,
   "metadata": {},
   "outputs": [],
   "source": [
    "%%capture\n",
    "#pip install import_ipynb\n",
    "import import_ipynb\n",
    "\n",
    "from Formalize import *"
   ]
  },
  {
   "cell_type": "markdown",
   "metadata": {},
   "source": [
    "Taking hyperparameters from user / system:"
   ]
  },
  {
   "cell_type": "markdown",
   "metadata": {},
   "source": [
    "Initiate / configure"
   ]
  },
  {
   "cell_type": "code",
   "execution_count": 3,
   "metadata": {},
   "outputs": [],
   "source": [
    "class Prediction(Retailers):\n",
    "\n",
    "    def __init__(self, retailer, n = 48):\n",
    "        self.retailer = retailer\n",
    "        self.price = np.zeros(shape = (n,1));\n",
    "        self.demand = np.zeros(shape = (n,1)).astype(int);\n",
    "        self.Alpha = np.zeros(shape = (n,1));\n",
    "        self.Target = np.zeros(shape = (n,1));\n",
    "        self.Earnings = np.zeros(shape = (n,1));\n",
    "        self.Grads = np.zeros(shape = (n,1));\n",
    "        self.prev_demand = {1:0, 2:0, 3:0, 4:0, 5:0, 6:0};\n",
    "        self.current_demand = {1:0, 2:0, 3:0, 4:0, 5:0, 6:0};\n",
    "\n",
    "# Input previous demand (only required if current demand cannot be extracted from the system)\n",
    "\n",
    "# Functions\n",
    "\n",
    "    def Possible_Target(self, alpha = 1.06, beta = 7.07, a = 1.5, b = 2.94):\n",
    "        #A = []\n",
    "        #for i in range(1000):\n",
    "            #A.append(alpha + (beta - alpha) * np.random.beta(a, b))\n",
    "        #plt.hist(A)\n",
    "        return alpha + (beta - alpha) * np.random.beta(a, b)\n",
    "\n",
    "    def safe(self, demand, Target, Grads, iteration):\n",
    "        if iteration == 1:\n",
    "            g = demand[iteration] - Target[iteration];\n",
    "            Grads[1] = g;\n",
    "        else:\n",
    "            g_1 = demand[iteration] - Target[iteration];\n",
    "            g_2 = sum(Grads[:iteration - 1]) / (iteration - 1);\n",
    "            Grads[iteration] = g_1 - g_2;\n",
    "            g = Grads[iteration];\n",
    "        return g, Grads\n",
    "\n",
    "# Loop for Gradient Descent\n",
    "\n",
    "    def Gradient_descent(self):\n",
    "        for iteration in range(n - 1):\n",
    "            Alpha[iteration] = 14 / (1998 + iteration);\n",
    "            #Target[iteration] = np.random.normal(mu, sigma);\n",
    "            Target[iteration] = self.Possible_Target();\n",
    "            #fprintf('Provide demand for iteration ');\n",
    "            #iteration\n",
    "            #demand(iteration) = input(': ');\n",
    "            #[g, Grads] = risky(demand, Target, Grads, iteration);\n",
    "            g, Grads = safe(demand, Target, Grads, iteration);\n",
    "            price[iteration + 1] = price[iteration] + Alpha[iteration] * g;\n",
    "            Earnings[iteration] = price[iteration] * demand[iteration];\n",
    "\n",
    "# Final definitions\n",
    "\n",
    "    def All_Results(self):\n",
    "        sold = sum(demand)\n",
    "        print('sold: ',format(sold))\n",
    "        unsold = supply - sum(demand)\n",
    "        print('unsold: ',format(unsold))\n",
    "        cost_overage = cp + restocking\n",
    "        print('cost_overage: ',format(cost_overage))\n",
    "        cost_underage = price_1 - cp\n",
    "        print('cost_underage: ',format(cost_underage))\n",
    "        profit = sum(Earnings) - sold * cp\n",
    "        print('profit: ',format(profit))\n",
    "        total_overage = profit - unsold * cost_overage\n",
    "        print('total_overage: ',format(total_overage))\n",
    "\n",
    "    def All_Plots(self):\n",
    "        plt.subplot(3,2,1);\n",
    "        plt.plot(price);\n",
    "        plt.subplot(3,2,2);\n",
    "        plt.plot(demand);\n",
    "        plt.subplot(3,2,3);\n",
    "        plt.plot(Alpha);\n",
    "        plt.subplot(3,2,4);\n",
    "        plt.plot(Target);\n",
    "        plt.subplot(3,2,5);\n",
    "        plt.plot(Grads);\n",
    "        plt.subplot(3,2,6);\n",
    "        plt.hist(demand);\n",
    "\n",
    "    def Manage(self):\n",
    "        self.cp = 3.00; #minimum_selling_prie = cost_price + additional_costs\n",
    "        self.msp = 2.9925; #cost_price \n",
    "        self.n = 52; #number of iterations or number of price changes allowed\n",
    "        self.supply = np.zeros(shape = (n,1)).astype(int); # retail side stock\n",
    "        self.price_1 = 4.332; # initial price of the product\n",
    "        self.restocking = 0; # restocking price (>0 for perishable goods only)\n",
    "\n",
    "        self.price[0] = price_1;\n",
    "        self.pm = price[0] - cp;\n",
    "        self.tau = 1 / n;\n",
    "        self.mu = supply * tau;\n",
    "        self.sigma = 0.24 * mu;\n",
    "\n",
    "        self.Possible_Target()\n",
    "        \n",
    "    def Demand_Change(self, month, week):\n",
    "        for i in range(month - 1,71,12):\n",
    "            df_1 = self.retailer.history[i]\n",
    "            df_1 = df_1.loc[df_1['week'] == week]\n",
    "            product_id = int((i / 12) + 1)\n",
    "            self.prev_demand[product_id] = list(df_1['weekly_demand'])[0]\n",
    "            self.retailer.inventory[product_id] = self.retailer.inventory[product_id] - self.prev_demand[product_id]\n",
    "        for i in range(6):\n",
    "            L = self.retailer.new_history[-1]\n",
    "            df_2 = L[i]\n",
    "            product_id = i + 1\n",
    "            self.current_demand[product_id] = list(df_2['weekly_demand'])[0]\n",
    "        return self    "
   ]
  }
 ],
 "metadata": {
  "kernelspec": {
   "display_name": "Python 3",
   "language": "python",
   "name": "python3"
  },
  "language_info": {
   "codemirror_mode": {
    "name": "ipython",
    "version": 3
   },
   "file_extension": ".py",
   "mimetype": "text/x-python",
   "name": "python",
   "nbconvert_exporter": "python",
   "pygments_lexer": "ipython3",
   "version": "3.6.5"
  }
 },
 "nbformat": 4,
 "nbformat_minor": 4
}
